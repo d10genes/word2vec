{
 "cells": [
  {
   "cell_type": "markdown",
   "metadata": {},
   "source": [
    "A difficulty of working with text data is that using each word of a large vocabulary as a feature requires working with large dimensions. While sparse matrix data structures make manipulating these vectors tractable, there are whole classes of algorithms that do not work well or at all on sparse high dimensional data. \n",
    "\n",
    "A somewhat recent development called word2vec allows words to be represented as dense vectors of much smaller dimensions (on the order of $\\mathbb{R}^{100}$). This algorithm yields representations of words such that words appearing in similar contexts will lie close to one another in this low dimensional vector space. Another interesting feature of this algorithm is that the representation does a good job at inferring analogies. [This gensim demo](http://rare-technologies.com/word2vec-tutorial/#app) of the algorithm shows word2vec inferring that *dogs* is to *puppies* as *cats* is to *kittens*:"
   ]
  },
  {
   "cell_type": "code",
   "execution_count": 1,
   "metadata": {
    "collapsed": false
   },
   "outputs": [
    {
     "data": {
      "image/png": "[encoded data removed]",
      "text/plain": [
       "<IPython.core.display.Image object>"
      ]
     },
     "execution_count": 1,
     "metadata": {},
     "output_type": "execute_result"
    }
   ],
   "source": [
    "from IPython.display import Image\n",
    "Image(filename='kittens.png')"
   ]
  },
  {
   "cell_type": "markdown",
   "metadata": {},
   "source": [
    "\n",
    "At a high level, the skip-gram flavor of this algorithm looks at a word and its surrounding  words, and tries to maximize the probability that the word's vector representation predicts those actual words occurring around it. If it is trained on the phrase *the quick brown fox jumps*, the word2vec input representation of the word *brown* would yield a high dot product with the output vectors for the words *the, quick, fox* and *jumps*. And if the algorithm is trained on a lot more text, there's a good chance that it will start to learn that the words $brown$ and $red$ appear in similar contexts, so that their vector representations will be pretty close to one another's.\n",
    "\n",
    "## Speed\n",
    "I'm constantly trying to navigate the trade-off from simultaneously maximizing my laziness and the speed of my code. Aiming for the lazy side, I originally wanted to experiment with using [autograd](https://github.com/HIPS/autograd) to write my gradient updates for me, and as nice as it was to not have to write out the gradient calculation, this pretty quickly bubbled to the top as one of the major bottlenecks, leaving me to write the gradients manually by faster means.\n",
    "\n",
    "While numpy gives a big speed boost over plain python, cython (used by the go-to word2vec implementation, [gensim](https://github.com/piskvorky/gensim)), gives a major performance improvement beyond numpy, with speeds often comparable to code written in C. Part of the cost of this speed up is that writing in Cython, while more pythonic than C, seems to require additional type annotations and syntactic elements, making it less readable and less interesting to write (at least for me). My goal here has been to make word2vec as close to gensim's cython performance as possible while sticking to Python, so I settled on Numba, a numeric JIT compiler that uses LLVM and supports a subset of Python and numpy.\n",
    "\n",
    "While I ran into some limitations of numba, rewriting the inner loops in Numba functions ended up giving a significant speed-boost. I did a lot of profiling and iterating to find the major bottlenecks of the gradient descent learning, and while I don't know of a good way to communicate the iterative stone-smoothing process that is program optimization,  I've left the original numpy and improved numba versions of some of these functions for microbenchmark comparison."
   ]
  },
  {
   "cell_type": "markdown",
   "metadata": {},
   "source": [
    "# Let's get started\n",
    "[#Benchmarks](#Benchmarks)"
   ]
  },
  {
   "cell_type": "code",
   "execution_count": 2,
   "metadata": {
    "collapsed": false
   },
   "outputs": [
    {
     "data": {
      "application/javascript": [
       "var csc = IPython.keyboard_manager.command_shortcuts\n",
       "csc.add_shortcut('Ctrl-k','ipython.move-selected-cell-up')\n",
       "csc.add_shortcut('Ctrl-j','ipython.move-selected-cell-down')\n",
       "csc.add_shortcut('Shift-m','ipython.merge-selected-cell-with-cell-after')"
      ],
      "text/plain": [
       "<IPython.core.display.Javascript object>"
      ]
     },
     "metadata": {},
     "output_type": "display_data"
    }
   ],
   "source": [
    "%%javascript\n",
    "var csc = IPython.keyboard_manager.command_shortcuts\n",
    "csc.add_shortcut('Ctrl-k','ipython.move-selected-cell-up')\n",
    "csc.add_shortcut('Ctrl-j','ipython.move-selected-cell-down')\n",
    "csc.add_shortcut('Shift-m','ipython.merge-selected-cell-with-cell-after')"
   ]
  },
  {
   "cell_type": "code",
   "execution_count": 3,
   "metadata": {
    "collapsed": false
   },
   "outputs": [],
   "source": [
    "from project_imports import *\n",
    "%matplotlib inline"
   ]
  },
  {
   "cell_type": "code",
   "execution_count": 4,
   "metadata": {
    "collapsed": false
   },
   "outputs": [],
   "source": [
    "import wordvec_utils as wut\n",
    "from wordvec_utils import Cat, update, Conf, NegSampler\n",
    "import utils as ut\n",
    "from utils import take, ilen, timer\n",
    "import numba_utils as nbu\n",
    "from numba_utils import ns_grad as ns_grad_jit, nseed\n",
    "\n",
    "from autograd import numpy as npa, grad\n",
    "from numba import jit, njit\n",
    "from numpy import array, ndarray as Array\n",
    "from numpy.linalg import norm"
   ]
  },
  {
   "cell_type": "code",
   "execution_count": 5,
   "metadata": {
    "collapsed": true
   },
   "outputs": [],
   "source": [
    "range = builtins.range"
   ]
  },
  {
   "cell_type": "code",
   "execution_count": 6,
   "metadata": {
    "collapsed": true
   },
   "outputs": [],
   "source": [
    "reload(ut); reload(nbu); reload(wut);"
   ]
  },
  {
   "cell_type": "markdown",
   "metadata": {},
   "source": [
    "## Objective functions\n",
    "\n",
    "The standard skip-gram objective function comes from taking the softmax probability of each of the actual context word vectors dotted with the input ($u_{c,j^*_c}$) and multiplying them together:\n",
    "\n",
    "\\begin{align}\n",
    "E & = -\\log \\prod_{c=1} ^{C}\n",
    "    \\frac {\\exp (u_{c,j^*_c})}\n",
    "          {\\sum_{j'=1} ^ V \\exp(u_{j'})} \\\\\n",
    "  & = -\\sum^C_{c=1} u_{j^*_c} + C \\cdot \\log \\sum ^ V _{j'=1} \\exp(u_j')\n",
    "\\end{align}\n",
    "\n",
    "See [word2vec Parameter Learning Explained](http://www-personal.umich.edu/~ronxin/pdf/w2vexp.pdf) for a detailed explanation, and note that the algorithm keeps 2 representations for each word, an input vector from $W$, and an output vector from $W'$ (`W1` and `W2` in the code).\n",
    "Though I ended up using a different objective called negative sampling, I kept this original objective below as `skipgram_likelihood`, written as a nested function since autograd requires single-argument functions to differentiate:"
   ]
  },
  {
   "cell_type": "code",
   "execution_count": 7,
   "metadata": {
    "collapsed": true
   },
   "outputs": [],
   "source": [
    "def skipgram_likelihood(wi, cwds, dv=None):\n",
    "    wix = dv.get(wi)\n",
    "    cixs = dv.get(cwds)\n",
    "    C = len(cwds)\n",
    "\n",
    "    def logloss(Wall):\n",
    "        W1, W2 = Cat.split(Wall)\n",
    "        h = W1[wix, :]  # ∈ ℝⁿ\n",
    "        u = np.dot(h, W2)\n",
    "        ucs = u[cixs]\n",
    "        return -np.sum(ucs) + C * np.log(np.sum(np.exp(u)))\n",
    "    return logloss"
   ]
  },
  {
   "cell_type": "markdown",
   "metadata": {},
   "source": [
    "The return value of `logloss` should pretty clearly resemble the equation above.\n",
    "\n",
    "# Negative sampling\n",
    "## Gradient\n",
    "\n",
    "After reading a bit more about word2vec, I found out about an extension to the skip-gram model called negative sampling that efficiently generates better word vectors. The basic idea is that in addition to training a word vector with $C$ words that *do* appear around it, the vector should also be trained with $K$ words randomly chosen from the rest of the text, as negative examples of what the vector should *not* predict in its context. \n",
    "\n",
    "As a side-note to keep up with the notation taken from [word2vec Parameter Learning Explained](http://www-personal.umich.edu/~ronxin/pdf/w2vexp.pdf), the term $\\boldsymbol v_{w_O}'$ refers to a word vector ($\\boldsymbol v$) that is from the output vector matrix ($\\boldsymbol v'$) representing an output word $w_O$. Notation aside, the gradient for the negative sampling extension is relatively straightforward. For each true context word vector $\\boldsymbol v_{w_O}'$ appearing close to the input word vector $h$, we'll draw $K$ word vectors $\\boldsymbol v_{w_i}$ at random from the corpus. The objective is computed by adding the log of the sigmoid of the word vector dotted with either the true or false context word (the negative samples are negated): "
   ]
  },
  {
   "cell_type": "markdown",
   "metadata": {},
   "source": [
    "\n",
    "$$\n",
    "E = -\\log \\sigma(\\boldsymbol v_{w_O}^{\\prime T} \\boldsymbol h)\n",
    "    - \\sum^K _{i=1} \\log \\sigma (-\\boldsymbol v_{w_i} ^{\\prime T} \\boldsymbol h)\n",
    "$$\n",
    "\n",
    "The gradient with respect to $\\boldsymbol v_{w_j}^{\\prime T} \\boldsymbol h$ is then as follows, where $t_j$ is an indicator for whether $w_j$ actually appears in the context:\n",
    "\n",
    "$$\n",
    "    \\frac{\\partial E}\n",
    "         {\\partial \\boldsymbol v_{w_j}^{\\prime T} \\boldsymbol h}\n",
    "         = \\sigma(\\boldsymbol v_{w_j}^{\\prime T} \\boldsymbol h) -t_j.\n",
    "$$\n",
    "\n",
    "The numpy gradient is written below as `ns_grad`; the numba gradient `ns_grad_jit` is similar, but all of the functions used in a JIT'd function must also be numba-JIT'd, so I moved them all out to the `numba_utils` module. \n",
    "\n",
    "The schema I adopted to calculate gradients takes a subset of the matrix formed by concatenating the input and output parameter matrices together ($W || W'$). If the vector dimension $N$ is 100, and there are 1000 words in the vocabulary, this matrix will be in $\\mathbb{R}^{1000 \\times 200}$. The gradient function takes a subset of this matrix with $K + 2$ rows. The first row represents the input word, the next represents the true context word, and the rest represent the $K$ negative samples.\n",
    "\n",
    "Note that since the first vector is from the input parameter matrix $W$, and these functions are operating on the input and output matrices concatenated, we only care about the first $N$ entries of the first row. Similarly, we only care about the last $N$ entries for the rest of the output vectors. This schema should be more clear from the `get_vecs1` function below that extracts the vectors from the relevant subset of the concatenated parameter matrices. This also means that for the gradients of the concatenated matrix, half of the entries in each row will be zero."
   ]
  },
  {
   "cell_type": "code",
   "execution_count": 8,
   "metadata": {
    "collapsed": false
   },
   "outputs": [],
   "source": [
    "getNall = lambda W: W.shape[1] // 2\n",
    "gen_labels = lambda negsamps: [1] + [0] * len(negsamps)\n",
    "sig = lambda x: 1 / (1 + np.exp(-x))\n",
    "\n",
    "\n",
    "def get_vecs1(Wsub):\n",
    "    N = getNall(Wsub)\n",
    "    h = Wsub[0, :N]  # ∈ ℝⁿ\n",
    "    vwo = Wsub[1, N:]\n",
    "    negsamps = Wsub[2:, N:]\n",
    "    return h, vwo, negsamps\n",
    "\n",
    "def ns_loss_grads(h: 'v[n]', vout: '[v[n]]', label: 'v[n]'):\n",
    "    dot = sig(vout @ h) - label\n",
    "    return dot * vout, dot * h\n",
    "\n",
    "def ns_grad(Wsub):\n",
    "    h, vwo, negsamps = get_vecs1(Wsub)\n",
    "    N = getNall(Wsub)\n",
    "    Wsub_grad = np.zeros(Wsub.shape)\n",
    "\n",
    "    for i, vout, label in zip(count(1), it.chain([vwo], negsamps),\n",
    "                              gen_labels(negsamps)):\n",
    "        hgrad, vgrad = ns_loss_grads(h, vout, label)\n",
    "        Wsub_grad[0, :N] += hgrad\n",
    "        Wsub_grad[i, N:] += vgrad\n",
    "    return Wsub_grad"
   ]
  },
  {
   "cell_type": "markdown",
   "metadata": {},
   "source": [
    "## Gradient check\n",
    "The following gradient checking functionality based on [the UFLDL tutorial](http://ufldl.stanford.edu/tutorial/supervised/DebuggingGradientChecking/) uses simple calculus to ensure that the gradients are working as expected.\n",
    "\n",
    "### Finite difference check"
   ]
  },
  {
   "cell_type": "code",
   "execution_count": 9,
   "metadata": {
    "collapsed": true
   },
   "outputs": [],
   "source": [
    "def ns_loss(h, vwo, vwi_negs):\n",
    "    \"\"\"This should be called on the subset of the matrix (Win || Wout')\n",
    "    determined by row indices `wi, win_ix, negwds`.\n",
    "    \"\"\"\n",
    "    negsum = 0\n",
    "    for j in range(len(vwi_negs)):\n",
    "        negsum += np.log(sig(-vwi_negs[j] @ h))\n",
    "        \n",
    "    return -np.log(sig(vwo @ h)) - negsum\n",
    "\n",
    "\n",
    "def ns_loss_vec(h, vwo, vwi_negs):\n",
    "    \"\"\"This should be called on the subset of the matrix (Win || Wout')\n",
    "    determined by row indices `wi, win_ix, negwds`.\n",
    "    \"\"\"\n",
    "    return -np.log(sig(vwo @ h)) - np.sum(np.log(sig(-vwi_negs @ h )))"
   ]
  },
  {
   "cell_type": "code",
   "execution_count": 10,
   "metadata": {
    "collapsed": false
   },
   "outputs": [],
   "source": [
    "def J(Wsub, loss=ns_loss):\n",
    "    N = getNall(Wsub)\n",
    "    h, vwo, vwi_negs = get_vecs1(Wsub)\n",
    "    return loss(h, vwo, vwi_negs)\n",
    "\n",
    "def check_grad_(W, i: int=None, j: int=None, eps=1e-6, J: 'fn'=None):\n",
    "    \"\"\"From eqn at http://ufldl.stanford.edu/tutorial/supervised\n",
    "    /DebuggingGradientChecking/\"\"\"\n",
    "    Wneg, Wpos = W.copy(), W.copy()\n",
    "    Wneg[i, j] -= eps\n",
    "    Wpos[i, j] += eps\n",
    "    return (J(Wpos) - J(Wneg)) / (2 * eps)\n",
    "\n",
    "def approx_grad(W, J=J):\n",
    "    n, m = W.shape\n",
    "    grad = np.zeros_like(W)\n",
    "    for i in range(n):\n",
    "        for j in range(m):\n",
    "            grad[i, j] = check_grad_(W, i=i, j=j, eps=1e-6, J=J)\n",
    "    return grad"
   ]
  },
  {
   "cell_type": "markdown",
   "metadata": {},
   "source": [
    "### Autograd checking"
   ]
  },
  {
   "cell_type": "code",
   "execution_count": 11,
   "metadata": {
    "collapsed": false
   },
   "outputs": [],
   "source": [
    "def mk_ns_loss_a(N):\n",
    "    \"\"\"Return a loss function that works on an N-dimensional\n",
    "    representation. This takes a single argument, the subset of\n",
    "    the input and output matrices that correspond to the input\n",
    "    word (first row), true contest word (second row) and K\n",
    "    negative samples (rest of the rows). Since it takes a\n",
    "    single argument, the gradient can automatically be\n",
    "    calculated by autograd\"\n",
    "    \"\"\"\n",
    "    def σ(x):\n",
    "        return 1 / (1 + npa.exp(-x))\n",
    "    \n",
    "    def ns_loss_a(Wsub):\n",
    "        h = Wsub[0, :N]\n",
    "        vwo = Wsub[1, N:]\n",
    "        vwi_negs = Wsub[2:, N:]\n",
    "        vwo_h = npa.dot(vwo, h)\n",
    "        vwi_negs_h = npa.dot(vwi_negs, h)\n",
    "        return -npa.log(σ(vwo_h)) - npa.sum(npa.log(σ(-vwi_negs_h)))\n",
    "    return ns_loss_a\n",
    "\n",
    "mk_ns_grad_a = z.compose(grad, mk_ns_loss_a)"
   ]
  },
  {
   "cell_type": "code",
   "execution_count": 12,
   "metadata": {
    "collapsed": true
   },
   "outputs": [],
   "source": [
    "N_ = 50; W = wut.init_w(1000, N_, seed=1); Wsub = W[:8]"
   ]
  },
  {
   "cell_type": "markdown",
   "metadata": {},
   "source": [
    "### Compare gradients"
   ]
  },
  {
   "cell_type": "code",
   "execution_count": 13,
   "metadata": {
    "collapsed": false
   },
   "outputs": [],
   "source": [
    "np_check = lambda x: approx_grad(x, partial(J, loss=ns_loss))\n",
    "np_vec_check = lambda x: approx_grad(x, partial(J, loss=ns_loss_vec))\n",
    "ns_grad_auto = mk_ns_grad_a(N_)"
   ]
  },
  {
   "cell_type": "code",
   "execution_count": 14,
   "metadata": {
    "collapsed": true
   },
   "outputs": [],
   "source": [
    "def grad_close(f, grd=ns_grad(Wsub)):\n",
    "    \"\"\"Check that a given gradient function result agrees\n",
    "    with ns_grad. Print out norm of the difference.\"\"\"\n",
    "    grd2 = f(Wsub)\n",
    "    close = np.allclose(grd, grd2)\n",
    "    close_ = '√' if close else 'x'\n",
    "    print('{} Diff: {}'.format(close_, np.linalg.norm(grd - grd2)))\n",
    "    return close"
   ]
  },
  {
   "cell_type": "code",
   "execution_count": 15,
   "metadata": {
    "collapsed": false
   },
   "outputs": [
    {
     "name": "stdout",
     "output_type": "stream",
     "text": [
      "√ Diff: 4.3962387780340825e-09\n",
      "√ Diff: 4.3962387780340825e-09\n",
      "√ Diff: 1.1173464828107622e-17\n",
      "√ Diff: 0.0\n",
      "√ Diff: 0.0\n"
     ]
    }
   ],
   "source": [
    "assert grad_close(np_check)\n",
    "assert grad_close(np_vec_check)\n",
    "assert grad_close(ns_grad_auto)\n",
    "assert grad_close(ns_grad)\n",
    "assert grad_close(ns_grad_jit)"
   ]
  },
  {
   "cell_type": "code",
   "execution_count": 16,
   "metadata": {
    "collapsed": false
   },
   "outputs": [
    {
     "name": "stdout",
     "output_type": "stream",
     "text": [
      "10 loops, best of 3: 48.2 ms per loop\n",
      "10 loops, best of 3: 32 ms per loop\n",
      "1000 loops, best of 3: 845 µs per loop\n",
      "10000 loops, best of 3: 54.7 µs per loop\n",
      "The slowest run took 4.31 times longer than the fastest. This could mean that an intermediate result is being cached \n",
      "100000 loops, best of 3: 6.17 µs per loop\n"
     ]
    }
   ],
   "source": [
    "%timeit np_check(Wsub)      #  48.9 ms per loop\n",
    "%timeit np_vec_check(Wsub)  #  33.8 ms per loop\n",
    "%timeit ns_grad_auto(Wsub)  #     856 µs per loop\n",
    "%timeit ns_grad(Wsub)       #      53.8 µs per loop\n",
    "%timeit ns_grad_jit(Wsub)   #       6.14 µs per loop"
   ]
  },
  {
   "cell_type": "markdown",
   "metadata": {},
   "source": [
    "The first two gradient checking versions are extremely slow as expected from the naive and unpythonic style. The numpy implementation gives a huge improvement over these, and numba gives us another order of magnitude speedup over this. The autograd version looks like it falls at about the logarithmic midpoint between the naive checking and handwritten implementations.\n",
    "\n",
    "### Draw negative samples\n",
    "\n",
    "As a foreshadowing of performance bottlenecks that my original implementation ran into, I have a few versions of a function that chooses words from the text at random, that increase in performance. They all draw words randomly according to the unigram$^{3/4}$ distribution, which is similar to the unigram distribution, but boosts the probability of less frequent items:"
   ]
  },
  {
   "cell_type": "code",
   "execution_count": 17,
   "metadata": {
    "collapsed": false
   },
   "outputs": [
    {
     "data": {
      "image/png": "[encoded data removed]",
      "text/plain": [
       "<matplotlib.figure.Figure at 0x1189f85c0>"
      ]
     },
     "metadata": {},
     "output_type": "display_data"
    }
   ],
   "source": [
    "uni = np.linspace(0, 1, 100)\n",
    "uni34 = uni ** (3/4)\n",
    "plt.plot(uni, uni34 - uni);"
   ]
  },
  {
   "cell_type": "markdown",
   "metadata": {},
   "source": [
    "Most of the samplers were written as generators, except for the last one, `neg_sampler_inplace`, which modifies an array in-place with random samples. As much as this in-place modification conflicts with my usual approach, it ended up being necessary for a final numba performance boost.\n",
    "\n",
    "The generator sampler I ended up going with, `neg_sampler_jit_pad`, is padded with a couple of dummy entries. I originally drew some negative samples `negsamps` from one of these generators, and then created the array to index $W$ by prepending `negsamps` with `w` and `c`, copying these to a new array. Usually this is ok, but I found that copying `negsamps` to a new array in the inner loop caused a noticeable delay, so I wrote `neg_sampler_jit_pad` to return 2 extra empty elements at the beginning to be able to insert `w` and `c` inplace without copying to a new array."
   ]
  },
  {
   "cell_type": "code",
   "execution_count": 18,
   "metadata": {
    "collapsed": false
   },
   "outputs": [],
   "source": [
    "def unigram(txt, pow=.75):\n",
    "    \"Unigram^(3/4) model\"\n",
    "    cts = Series(Counter(txt))\n",
    "    \n",
    "    # If txt is integers, fill in missing values (likely for\n",
    "    # unknown token) with 0 probability to reliably use\n",
    "    # index to identify token\n",
    "    int_txt = cts.index.dtype == int\n",
    "    if int_txt:\n",
    "        missing_tokens = set(range(cts.index.max())) - set(cts.index)\n",
    "        for msg in missing_tokens:\n",
    "            cts.loc[msg] = 0\n",
    "        cts = cts.sort_index()\n",
    "        \n",
    "    N = len(txt)\n",
    "    ctsdf = ((cts / cts.sum()) ** pow).reset_index(drop=0)\n",
    "    ctsdf.columns = ['Word', 'Prob']\n",
    "    if int_txt:\n",
    "        assert (ctsdf.Word == ctsdf.index).all()\n",
    "    return ctsdf\n",
    "\n",
    "def cum_prob_uni(xs, pow=.75):\n",
    "    ug = unigram(xs, pow=pow)\n",
    "    return ug.Prob.cumsum().div(ug.Prob.sum()).values\n",
    "\n",
    "\n",
    "def neg_sampler_pd(xs, K, pow=.75):\n",
    "    \"Simplest, but slowest sampler using built-in pandas sample function\"\n",
    "    ug = unigram(xs, pow=pow)\n",
    "    for seed in count():\n",
    "        yield ug.Word.sample(n=K, weights=ug.Prob, random_state=seed,\n",
    "                             replace=True)\n",
    "        \n",
    "        \n",
    "def neg_sampler_np(xs, K, cache_len=1000, use_seed=False, pow=.75,\n",
    "                   ret_type=Array):\n",
    "    \"Faster neg. sampler without the pandas overhead\"\n",
    "    ug = unigram(xs, pow=pow)\n",
    "    p = ug.Prob.values / ug.Prob.sum()\n",
    "    a = ug.Word.values\n",
    "\n",
    "    def neg_sampler_np_():\n",
    "        for seed in count():\n",
    "            if use_seed:\n",
    "                nr.seed(seed)\n",
    "            Wds = nr.choice(a, size=(cache_len, K), p=p)\n",
    "            for wds in Wds:\n",
    "                yield wds\n",
    "                \n",
    "    agen = neg_sampler_np_()            \n",
    "    if ret_type == list:\n",
    "        return map(list, agen)\n",
    "    assert ret_type == Array, ('Only defined for type '\n",
    "                                    'in {Array, list}')\n",
    "    return agen\n",
    "\n",
    "\n",
    "def neg_sampler_jit(xs, K, pow=.75, ret_type=list):\n",
    "    cum_prob = cum_prob_uni(xs, pow=pow)\n",
    "    sampler = {\n",
    "        list:  nbu.neg_sampler_jitl_,\n",
    "        Array: nbu.neg_sampler_jita_,\n",
    "    }[ret_type]\n",
    "    return sampler(cum_prob, K)\n",
    "\n",
    "def neg_sampler_jit_pad(xs, K, pow=.75, ret_type=list, pad=0):\n",
    "    cum_prob = cum_prob_uni(xs, pow=pow)\n",
    "    sampler = {\n",
    "        list:  nbu.neg_sampler_jitl_pad,\n",
    "        Array: nbu.neg_sampler_jita_pad,\n",
    "    }[ret_type]\n",
    "    return sampler(cum_prob, K, pad=pad)\n",
    "\n",
    "def neg_sampler_inplace(xs, K, pow=.75, pad=0, ret_type=Array,\n",
    "                        seed=None):\n",
    "    use_seed = seed is not None and False\n",
    "    seed = seed or 0\n",
    "    cum_prob = cum_prob_uni(xs, pow=pow)\n",
    "    a = np.empty(K + pad, dtype=np.int64)\n",
    "    \n",
    "    @njit\n",
    "    def neg_sampler_jit_pad_arr_(a):\n",
    "        if use_seed:\n",
    "            nr.seed(seed)\n",
    "        for i in range(pad, K + pad):\n",
    "            a[i] = nbu.bisect_left_jit(cum_prob, nr.rand())\n",
    "    return a, neg_sampler_jit_pad_arr_\n",
    "\n",
    "def neg_sampler_inplace_gen(xs, K, pow=.75, pad=0, ret_type=Array):\n",
    "    a, neg_sampler_jit_pad_arr_ = neg_sampler_inplace(xs, K, pow=pow,\n",
    "                                                      pad=pad)\n",
    "    for _ in it.repeat(None):\n",
    "        neg_sampler_jit_pad_arr_(a)\n",
    "        yield a[pad:].copy()"
   ]
  },
  {
   "cell_type": "markdown",
   "metadata": {},
   "source": [
    "### Check distributions\n",
    "\n",
    "Just as a sanity check that the different implementations do the same thing, I randomly generate words according to how frequently they occur in the text with each of the samplers and scatter-plot them against the actual word frequency to check that they mostly lie on $y=x$. "
   ]
  },
  {
   "cell_type": "code",
   "execution_count": 19,
   "metadata": {
    "collapsed": true
   },
   "outputs": [],
   "source": [
    "from sklearn.preprocessing import LabelEncoder\n",
    "from nltk.corpus import brown\n",
    "some_text = take(brown.words(), int(1e6))"
   ]
  },
  {
   "cell_type": "code",
   "execution_count": 20,
   "metadata": {
    "collapsed": false
   },
   "outputs": [],
   "source": [
    "le = LabelEncoder()\n",
    "smtok = le.fit_transform(some_text)"
   ]
  },
  {
   "cell_type": "code",
   "execution_count": 21,
   "metadata": {
    "collapsed": false
   },
   "outputs": [],
   "source": [
    "gen_pd =       NegSampler(neg_sampler_pd, smtok, 8)\n",
    "gen_npl =      NegSampler(neg_sampler_np, smtok, 8, ret_type=list)\n",
    "gen_npa =      NegSampler(neg_sampler_np, smtok, 8, ret_type=Array)\n",
    "gen_jitl =     NegSampler(neg_sampler_jit, smtok, 8, ret_type=list)\n",
    "gen_jitl_pad = NegSampler(neg_sampler_jit_pad, smtok, 8, ret_type=list,\n",
    "                          pad=2)\n",
    "gen_jita =     NegSampler(neg_sampler_jit, smtok, 8, ret_type=Array)\n",
    "gen_jita_pad = NegSampler(neg_sampler_jit_pad, smtok, 8,\n",
    "                          ret_type=Array, pad=2)\n",
    "gen_jita_padi = NegSampler(neg_sampler_inplace_gen, smtok, 8,\n",
    "                           ret_type=Array, pad=2)"
   ]
  },
  {
   "cell_type": "code",
   "execution_count": 22,
   "metadata": {
    "collapsed": false
   },
   "outputs": [
    {
     "name": "stdout",
     "output_type": "stream",
     "text": [
      "1 loops, best of 3: 3.42 s per loop\n",
      "10 loops, best of 3: 32.4 ms per loop\n",
      "10 loops, best of 3: 19.9 ms per loop\n",
      "100 loops, best of 3: 18.7 ms per loop\n",
      "100 loops, best of 3: 19.4 ms per loop\n",
      "100 loops, best of 3: 14.5 ms per loop\n",
      "100 loops, best of 3: 14.9 ms per loop\n",
      "10 loops, best of 3: 20.6 ms per loop\n"
     ]
    }
   ],
   "source": [
    "run_n = lambda gen, n=10000: ilen(it.islice(gen, n))\n",
    "%timeit run_n(gen_pd, n=1000)  # 3.41 s per loop\n",
    "%timeit run_n(gen_npl)         #    31.4 ms per loop\n",
    "%timeit run_n(gen_npa)         #    19.1 ms per loop\n",
    "%timeit run_n(gen_jitl)        #    18.6 ms per loop\n",
    "%timeit run_n(gen_jitl_pad)    #    19.2 ms per loop\n",
    "%timeit run_n(gen_jita)        #    14.7 ms per loop\n",
    "%timeit run_n(gen_jita_pad)    #    19.2 ms per loop\n",
    "%timeit run_n(gen_jita_padi)   #    20.9 ms per loop"
   ]
  },
  {
   "cell_type": "code",
   "execution_count": 23,
   "metadata": {
    "collapsed": false
   },
   "outputs": [],
   "source": [
    "n = 100000\n",
    "csp = Series(Counter(x for xs in it.islice(gen_pd, n // 100)\n",
    "                     for x in xs))\n",
    "csnp = Series(Counter(x for xs in it.islice(gen_npl, n) for x in xs))\n",
    "csj = Series(Counter(x for xs in it.islice(gen_jita_pad, n)\n",
    "                     for x in xs[2:]))\n",
    "cs_ip = Series(Counter(x for xs in it.islice(gen_jita_padi, n)\n",
    "                       for x in xs))\n",
    "\n",
    "ug = unigram(smtok, pow=.75)\n",
    "cts = DataFrame({'Numba': csj, 'Numpy': csnp, 'Pandas': csp,\n",
    "                 'Inplace': cs_ip}).fillna(0)\n",
    "probs = cts / cts.sum()\n",
    "probs['Probs'] = ug.Prob / ug.Prob.sum()"
   ]
  },
  {
   "cell_type": "code",
   "execution_count": 24,
   "metadata": {
    "collapsed": false
   },
   "outputs": [
    {
     "data": {
      "image/png": "[encoded data removed]",
      "text/plain": [
       "<matplotlib.figure.Figure at 0x11e13ad30>"
      ]
     },
     "metadata": {},
     "output_type": "display_data"
    }
   ],
   "source": [
    "def plot_dist(xcol=None, subplt=None):\n",
    "    plt.subplot(subplt)\n",
    "    probs.plot(x=xcol, y='Probs', ax=plt.gca(), kind='scatter',\n",
    "               alpha=.25)\n",
    "    _, xi = plt.xlim(None)\n",
    "    _, yi = plt.ylim(0, None)\n",
    "    end = min(xi, yi)\n",
    "    plt.plot([0, end], [0, end], alpha=.2)\n",
    "    plt.xticks(rotation=70)\n",
    "    \n",
    "plt.figure(figsize=(16, 10))\n",
    "plot_dist(xcol='Numba', subplt=141)\n",
    "plot_dist(xcol='Numpy', subplt=142)\n",
    "plot_dist(xcol='Pandas', subplt=143)\n",
    "plot_dist(xcol='Inplace', subplt=144)"
   ]
  },
  {
   "cell_type": "code",
   "execution_count": 25,
   "metadata": {
    "collapsed": true
   },
   "outputs": [],
   "source": [
    "del smtok, le"
   ]
  },
  {
   "cell_type": "markdown",
   "metadata": {},
   "source": [
    "As these plots show, the samplers seem to be drawing words according to the expected distribution. The pandas sampler was so slow that I had to reduce the number of draws by a couple orders of magnitude, so the plot is a lot noisier than the others, but still roughly on track. The in-place sampler appears to be slower on the microbenchmarks, but gives an improvement when restructuring the gradient update routine.\n",
    "\n",
    "### Sliding window\n",
    "It turned out another significant bottleneck of the gradient descent routine was the sliding window code that iterates over the entire corpus, yielding a word and its context words at each point. \n",
    "\n",
    "For the first few words in the text sequence, there are less than $C$ surrounding context words, so some checking is required. For the numba function, I used a specialized iterator at the beginning and end to avoid checking the max and min indices at every step.\n",
    "Just like in the negative sampler section, I first wrote the sliding window functions in a generator style, and converted the fastest version to an inplace modification style."
   ]
  },
  {
   "cell_type": "code",
   "execution_count": 26,
   "metadata": {
    "collapsed": false
   },
   "outputs": [],
   "source": [
    "def sliding_window(xs, C=4, start_pos=0):\n",
    "    \"\"\"Iterate through corpus, yielding input word\n",
    "    and surrounding context words\"\"\"\n",
    "    winsize = C // 2\n",
    "    N = len(xs)\n",
    "    for i, x in enumerate(xs, start_pos):\n",
    "        ix1 = max(0, i-winsize)\n",
    "        ix2 = min(N, i+winsize+1)\n",
    "        yield x, xs[ix1:i] + xs[i + 1:ix2]\n",
    "\n",
    "@njit\n",
    "def sliding_window_jit(xs, C=4):\n",
    "    \"\"\"Iterates through corpus, yielding input word\n",
    "    and surrounding context words\"\"\"\n",
    "    winsize = C // 2\n",
    "    N = len(xs)\n",
    "    for i in range(winsize):\n",
    "        yield nbu.bounds_check_window(i, xs, winsize, N)\n",
    "    for i in range(winsize, N-winsize):\n",
    "        context = []\n",
    "        for j in range(i-winsize, i+winsize+1):\n",
    "            if j != i:\n",
    "                context.append(xs[j])\n",
    "        yield xs[i], context\n",
    "    for i in range(N-winsize, N):\n",
    "        yield nbu.bounds_check_window(i, xs, winsize, N)\n",
    "\n",
    "@njit\n",
    "def sliding_window_jit_arr(xs, C=4):\n",
    "    \"\"\"Iterates through corpus, yielding input word\n",
    "    and surrounding context words\"\"\"\n",
    "    winsize = C // 2\n",
    "    N = len(xs)\n",
    "    for i in range(winsize):\n",
    "        yield nbu.bounds_check_window_arr(i, xs, winsize, N)\n",
    "    for i in range(winsize, N-winsize):\n",
    "        context = np.empty(C, dtype=np.int64)\n",
    "        for ci in range(winsize):\n",
    "            context[ci] = xs[i - winsize + ci]\n",
    "            context[winsize + ci] = xs[i + 1 + ci]\n",
    "        yield xs[i], context\n",
    "    for i in range(N-winsize, N):\n",
    "        yield nbu.bounds_check_window_arr(i, xs, winsize, N)"
   ]
  },
  {
   "cell_type": "code",
   "execution_count": 27,
   "metadata": {
    "collapsed": true
   },
   "outputs": [],
   "source": [
    "@njit\n",
    "def sliding_window_inplace(xs, i, C=4):\n",
    "    winsize = C // 2\n",
    "    N = len(xs)\n",
    "    if i < winsize:\n",
    "        return nbu.bounds_check_window_arr(i, xs, winsize, N)\n",
    "    elif i < N-winsize:\n",
    "        context = np.empty(C, dtype=np.int64)\n",
    "        for ci in range(winsize):\n",
    "            context[ci] = xs[i - winsize + ci]\n",
    "            context[winsize + ci] = xs[i + 1 + ci]\n",
    "        return xs[i], context\n",
    "    elif i < N:\n",
    "        return nbu.bounds_check_window_arr(i, xs, winsize, N)\n",
    "    raise ValueError('Out of bounds')\n",
    "    \n",
    "def sliding_window_ix_(xs, C=4):\n",
    "    return (sliding_window_inplace(xs, i, C=C) for i in range(len(xs)))"
   ]
  },
  {
   "cell_type": "code",
   "execution_count": 28,
   "metadata": {
    "collapsed": false
   },
   "outputs": [],
   "source": [
    "samp_toks = nr.randint(0, 1e6, size=100005)\n",
    "samp_toksl = list(samp_toks)\n",
    "list(sliding_window_jit(samp_toksl[:10], C=4))\n",
    "run_window = lambda f, toks=samp_toksl: [ut.ilen(xs)\n",
    "                                         for xs in f(toks, C=4)]"
   ]
  },
  {
   "cell_type": "code",
   "execution_count": 29,
   "metadata": {
    "collapsed": false
   },
   "outputs": [],
   "source": [
    "to_lst = lambda xs: [(c, list(ys)) for c, ys in xs]\n",
    "assert to_lst(sliding_window_ix_(samp_toks[:10], C=4)\n",
    "             ) == to_lst(sliding_window_jit_arr(samp_toks[:10], C=4))"
   ]
  },
  {
   "cell_type": "code",
   "execution_count": 30,
   "metadata": {
    "collapsed": false
   },
   "outputs": [
    {
     "name": "stdout",
     "output_type": "stream",
     "text": [
      "10 loops, best of 3: 178 ms per loop\n",
      "10 loops, best of 3: 133 ms per loop\n",
      "10 loops, best of 3: 109 ms per loop\n",
      "10 loops, best of 3: 167 ms per loop\n"
     ]
    }
   ],
   "source": [
    "%timeit run_window(sliding_window)\n",
    "%timeit run_window(sliding_window_jit)\n",
    "%timeit run_window(sliding_window_jit_arr, toks=samp_toks)\n",
    "%timeit run_window(sliding_window_ix_, toks=samp_toks)"
   ]
  },
  {
   "cell_type": "markdown",
   "metadata": {},
   "source": [
    "### Norm\n",
    "Since I'm using the concatenated input and output matrix, half of the `w, c, negsamps` submatrix entries are 0. On each iteration I check the gradient matrix's norm to clip the gradient if necessary. A specialized norm function taking this structure into account gives about an order of magnitude speedup over the numpy one. "
   ]
  },
  {
   "cell_type": "code",
   "execution_count": 31,
   "metadata": {
    "collapsed": false
   },
   "outputs": [],
   "source": [
    "@njit\n",
    "def grad_norm(Wsub):\n",
    "    \"\"\"Calculate norm of gradient, where first row\n",
    "    is input vector, rest are output vectors. For any row,\n",
    "    half of the entries are zeros, which allows a lot of\n",
    "    skipping for a faster computation\"\"\"\n",
    "    n = Wsub.shape[1] // 2\n",
    "    sm = 0\n",
    "    for i in range(n):\n",
    "        sm += Wsub[0, i] ** 2\n",
    "    for i in range(1, len(Wsub)):\n",
    "        for j in range(n, 2 * n):\n",
    "            sm += Wsub[i, j] ** 2\n",
    "    return np.sqrt(sm)"
   ]
  },
  {
   "cell_type": "code",
   "execution_count": 32,
   "metadata": {
    "collapsed": false
   },
   "outputs": [
    {
     "name": "stdout",
     "output_type": "stream",
     "text": [
      "The slowest run took 5.81 times longer than the fastest. This could mean that an intermediate result is being cached \n",
      "100000 loops, best of 3: 4.69 µs per loop\n",
      "The slowest run took 4.25 times longer than the fastest. This could mean that an intermediate result is being cached \n",
      "1000000 loops, best of 3: 659 ns per loop\n"
     ]
    }
   ],
   "source": [
    "grd = ns_grad_jit(Wsub)\n",
    "assert np.isclose(grad_norm(grd), np.linalg.norm(grad_norm(grd)))\n",
    "\n",
    "%timeit np.linalg.norm(grad_norm(grd))\n",
    "%timeit grad_norm(grd)"
   ]
  },
  {
   "cell_type": "markdown",
   "metadata": {},
   "source": [
    "## Gradient descent\n",
    "That does it for optimizing most of the individual pieces.\n",
    "For the gradient descent routine, I'm passing all the hyper-parameters through a configuration dictionary, validated by [voluptuous](https://pypi.python.org/pypi/voluptuous). This lets me specify of things like the context window size, learning rate, number of negative samples and size of the word vectors. Check the utility file `wordvec_utils.py` where it's defined for details on the meanings of the parameters."
   ]
  },
  {
   "cell_type": "code",
   "execution_count": 33,
   "metadata": {
    "collapsed": false
   },
   "outputs": [],
   "source": [
    "all_text = list(brown.words())\n",
    "use_words_ = z.valfilter(lambda x: x >= 5, Counter(all_text))\n",
    "use_words = [w for w in all_text if w in use_words_]\n",
    "le = LabelEncoder()\n",
    "toka = le.fit_transform(use_words)\n",
    "tokl = list(toka)\n",
    "vc = le.classes_"
   ]
  },
  {
   "cell_type": "code",
   "execution_count": 34,
   "metadata": {
    "collapsed": false
   },
   "outputs": [],
   "source": [
    "cnf = ut.AttrDict(\n",
    "    eta=.1, min_eta=.0001, accumsec=0,\n",
    "    N=100, C=4, K=6, iter=0, thresh=15, epoch=0,\n",
    "    pad=0,\n",
    "    term=dict(iters=None,\n",
    "              secs=None\n",
    "    ),\n",
    "    dir='cache',\n",
    ")\n",
    "cnf = Conf(cnf)\n",
    "cnf_ = cnf\n",
    "del cnf\n",
    "cfp = update(cnf_, pad=2, term={})\n",
    "\n",
    "W = wut.init_w(len(vc), cnf_.N, seed=1)\n",
    "We = W.copy()"
   ]
  },
  {
   "cell_type": "markdown",
   "metadata": {},
   "source": [
    "### Sgd\n",
    "One final speedup I got was from putting the entire inner loop routine into a numba JIT'd function, instead of calling each JIT'd function separately. Numba seems to reduce some of python's function call overhead, as well as the numpy indexing. For some reason, merely indexing into a numpy array (to calculate the gradient and then update the original matrix) still ended up being a significant bottleneck, though numba seemed to reduce it.\n",
    "\n",
    "Since Numba doesn't allow passing functions in as parameters, `mk_grad_update` is a higher order vanilla Python function that returns either a regular numpy function, or the same function with a numba decorator and a numba gradient function in the closure."
   ]
  },
  {
   "cell_type": "code",
   "execution_count": 35,
   "metadata": {
    "collapsed": false
   },
   "outputs": [],
   "source": [
    "def mk_grad_update(jit=False, grad_func=ns_grad):\n",
    "    if jit:\n",
    "        grad_func = ns_grad_jit\n",
    "        norm_func = grad_norm\n",
    "        deco = njit\n",
    "    else:\n",
    "        norm_func = np.linalg.norm\n",
    "        deco = lambda x: x\n",
    "        \n",
    "    def grad_update(W, sub_ixs, eta):\n",
    "        Wsub = W[sub_ixs]\n",
    "        grad = grad_func(Wsub)\n",
    "        gnorm = norm_func(grad)\n",
    "        if gnorm > 5:  # clip gradient\n",
    "            grad /= gnorm\n",
    "        W[sub_ixs] = Wsub - eta * grad\n",
    "        \n",
    "    return deco(grad_update)\n",
    "\n",
    "grad_update = mk_grad_update(jit=False)\n",
    "grad_update_jit = mk_grad_update(jit=True)"
   ]
  },
  {
   "cell_type": "code",
   "execution_count": 36,
   "metadata": {
    "collapsed": false
   },
   "outputs": [],
   "source": [
    "@njit\n",
    "def grad_update_jit_pad(W, sub_ixs, eta, w=0, c=0):\n",
    "    \"\"\"If focus or context word are contained in negative samples,\n",
    "    drop them before performing the grad update.\n",
    "    \"\"\"\n",
    "    sub_ixs = nbu.remove_dupes(sub_ixs, w, c)\n",
    "    grad_update_jit(W, sub_ixs, eta)\n",
    "    \n",
    "def inner_update(W, negsamps, eta, w=0, c=0):\n",
    "    \"\"\"Numpy inner loop gradient update function.\n",
    "    I.e., slow version of `grad_update_jit_pad`\"\"\"\n",
    "    #print(negsamps, eta, w, c)\n",
    "    if (w in negsamps) or (c in negsamps):\n",
    "        negsamps = [x for x in negsamps if x not in {w, c}]\n",
    "    sub_ixs = np.array([w, c] + negsamps) # list(negsamps)\n",
    "    grad_update(W, sub_ixs, eta)\n",
    "    \n",
    "def check_padding(sampler, k, grad_update, dims=1):\n",
    "    \"Poor dependent type checker\"\n",
    "    _samp = next(sampler)[0] if dims == 2 else next(sampler)\n",
    "    k_ = len(_samp)\n",
    "    padded = k_ == 2 + k\n",
    "    assert k_ == sampler.pad + sampler.K\n",
    "    assert k == sampler.K\n",
    "    assert k_ in (2 + k, k), ('Length of samples'\n",
    "        ' should be either `k` or `k` + 2 if padded')\n",
    "    assert padded == (grad_update in padded_updates), (\n",
    "        'Make sure sampler size agrees with grad_update')\n",
    "\n",
    "padded_updates = {grad_update_jit_pad}\n",
    "\n",
    "gen_npl = NegSampler(neg_sampler_np, tokl, K=cnf_.K, ret_type=list)\n",
    "numpy_opts = dict(ns_grad_=ns_grad, neg_sampler=gen_npl,\n",
    "                  sliding_window=sliding_window,\n",
    "                  grad_update=inner_update)\n",
    "\n",
    "ngsamp_pad = NegSampler(neg_sampler_jit_pad, tokl, cfp.K,\n",
    "                        ret_type=Array, pad=2)\n",
    "fast_opts = dict(ns_grad_=ns_grad_jit, neg_sampler=ngsamp_pad,\n",
    "                 sliding_window=sliding_window_jit,\n",
    "                 grad_update=grad_update_jit_pad)"
   ]
  },
  {
   "cell_type": "markdown",
   "metadata": {},
   "source": [
    "And finally, here is the full gradient descent function put together. The numpy version, `sgd_np`, has some vestigial code and options from earlier iterations where I was doing more debugging. `mk_sgd_inplace` returns a more straightforward Numba sgd function."
   ]
  },
  {
   "cell_type": "code",
   "execution_count": 37,
   "metadata": {
    "collapsed": false
   },
   "outputs": [],
   "source": [
    "def sgd_np(W=None, corp=None, cf={}, ns_grad_=ns_grad, neg_sampler=None,\n",
    "        vc=None, sliding_window=sliding_window,\n",
    "        grad_update=grad_update_jit_pad):\n",
    "    check_padding(neg_sampler, cf.K, grad_update)\n",
    "    if not os.path.exists(cf.dir):\n",
    "        os.mkdir(cf.dir)\n",
    "    st = time.time(); cf = Conf(cf)  #.copy()\n",
    "    assert cf.N == W.shape[1] / 2, 'shape of W disagrees with conf'\n",
    "    \n",
    "    iter_corpus = corp[cf.iter:] if cf.iter else corp\n",
    "    learning_rates = np.linspace(cf.eta, cf.min_eta, len(iter_corpus))\n",
    "    assert neg_sampler is not None, \"Give me a negative sampler!\"\n",
    "    \n",
    "    iters_ = zip(count(cf.iter),\n",
    "                  sliding_window(iter_corpus, C=cf.C),\n",
    "                  z.partition(cf.C, neg_sampler),\n",
    "                  learning_rates,\n",
    "                 )\n",
    "    iters = ut.timeloop(iters_, **cf.term)\n",
    "\n",
    "    for i, (w, cont_), negsamp_lst, eta in iters:\n",
    "        cont = [x for x in cont_ if x != w] if w in cont_ else cont_\n",
    "        for c, negsamps in zip(cont, negsamp_lst):\n",
    "            grad_update(W, negsamps, eta, w=w, c=c)\n",
    "\n",
    "    tdur = time.time() - st\n",
    "    cf2 = update(cf, iter=i+1)  # , norms=norms, gradnorms=gradnorms\n",
    "    cf2['accumsec'] += tdur\n",
    "    if not cf2.term and 0:\n",
    "        fn = join(cf2.dir, 'n{}_e{}.csv'.format(cf.N, cf.epoch))\n",
    "        DataFrame(W, index=vc).to_csv(fn)\n",
    "        cf2['epoch'] += 1\n",
    "        cf2 = update(cf2, iter=0)\n",
    "    else:\n",
    "        pass\n",
    "    #     print(i, 'iters')\n",
    "    return W, cf2\n",
    "\n",
    "_ = sgd_np(W=We.copy(), corp=tokl, cf=update(cnf_, term={'iters': 1000}),\n",
    "        **fast_opts)"
   ]
  },
  {
   "cell_type": "code",
   "execution_count": 38,
   "metadata": {
    "collapsed": false,
    "scrolled": true
   },
   "outputs": [],
   "source": [
    "def mk_sgd_inplace(cf=None, sampler=None):\n",
    "    iters = cf.term.get('iters') or 0\n",
    "    \n",
    "    @njit\n",
    "    def loop(W, toka, eta=None, min_eta=None, C=None, K=None, pad=None):\n",
    "        N = iters or len(toka)\n",
    "        sub_ixs = np.empty(K + pad, np.int64)\n",
    "        etas = np.linspace(eta, min_eta, N)\n",
    "        for i in range(N):\n",
    "            w, conts = sliding_window_inplace(toka, i, C=C)\n",
    "            eta_ = etas[i]\n",
    "            for c in conts:\n",
    "                sampler(sub_ixs)\n",
    "                grad_update_jit_pad(W, sub_ixs, eta_, w=w, c=c)\n",
    "        return W\n",
    "    kwa = z.keyfilter(lambda x: x in 'eta min_eta C K pad'.split(), cf)\n",
    "    looper = partial(loop, **kwa)\n",
    "    return looper\n",
    "\n",
    "a, inplace_sampler = (neg_sampler_inplace(\n",
    "        toka, cfp.K, pow=.75, pad=cfp.pad, ret_type=Array, seed=2))\n",
    "sgd_inplace = mk_sgd_inplace(cfp, sampler=inplace_sampler)\n",
    "\n",
    "w1 = We.copy()\n",
    "sgd_inplace(w1, toka[:100])  # warmup the JIT compiler;"
   ]
  },
  {
   "cell_type": "markdown",
   "metadata": {},
   "source": [
    "### Benchmarks\n",
    "\n",
    "Now that everything is coded up, it's time to do some benchmarks. I'm curious about how well this numba code compares to both the original numpy version I wrote and the uber-optimized gensim Cython code. For the comparison, I ran the algorithms on the Brown corpus [packaged with NLTK](http://www.nltk.org/nltk_data/) (loaded above as an array of integer tokens to variable `toka` in the [Gradient descent](#Gradient-descent) section). After running these, I realized that as close as I tried to follow the papers, there's still some interesting implementation differences between gensim and what I came up with, as far as the way the negative sampling gradients are applied to the word vectors. So even after running the algorithms over the same corpus, there's a pretty sizable gap in the word vector norm.\n",
    "\n",
    "To get an idea of how comparable the word vectors are, I compare the accuracy of completing analogies from the respective word vectors, using a file that came with gensim. The file has a bunch of analogies like 'brother' is to 'brothers' as 'sister' is to 'sisters', allowing you to evaluate how well a set of word vectors can complete the analogy. In this case it can be scored on whether it guesses that the vector for 'sisters' ($v_{sisters}$) is the closest to the vector that results from $v_{brothers} - v_{brother} + v_{sister}$. While writing the evaluation code I noticed that some of the completions, while not technically correct may reveal unexpected relationships within the corpus it was trained on. For example, given the relationship of Tokyo being the capital of Japan, word2vec predicted that Warsaw was the capital of the USSR, and Seattle is the capital of the AFL-CIO. \n",
    "\n",
    "(To reproduce the gensim vectors, you'll need to run `export PYTHONHASHSEED=42` in the terminal before even starting the ipython notebook, though I'm not even sure how well python's randomness can be reproduced on different systems and versions.)\n",
    "\n",
    "#### Numba"
   ]
  },
  {
   "cell_type": "code",
   "execution_count": 39,
   "metadata": {
    "collapsed": false
   },
   "outputs": [
    {
     "name": "stdout",
     "output_type": "stream",
     "text": [
      "PYTHONHASHSEED=42\n",
      "Numba score: 182\n",
      "Numba wordvec norm: 351.30\n",
      "=> 53.53s\n"
     ]
    }
   ],
   "source": [
    "print('PYTHONHASHSEED={}'.format(os.environ.get('PYTHONHASHSEED')))\n",
    "nseed(41)\n",
    "w1, t_numba = timer(sgd_inplace)(We.copy(), toka)\n",
    "print('Numba score: {}'.format(wut.score_wv(w1, vc)))\n",
    "print('Numba wordvec norm: {:.2f}'.format(norm(w1)))\n",
    "print('=> {:.2f}s'.format(t_numba))"
   ]
  },
  {
   "cell_type": "markdown",
   "metadata": {},
   "source": [
    "#### Numpy"
   ]
  },
  {
   "cell_type": "code",
   "execution_count": 40,
   "metadata": {
    "collapsed": false
   },
   "outputs": [
    {
     "name": "stdout",
     "output_type": "stream",
     "text": [
      "Numpy score: 182\n",
      "Numpy wordvec norm: 349.22\n",
      "=> 368.91s\n"
     ]
    }
   ],
   "source": [
    "nr.seed(41)  # 182\n",
    "w2 = We.copy()\n",
    "(w2, _), t_np = timer(sgd_np)(W=w2, corp=tokl, cf=update(cnf_, term={}),\n",
    "                           **numpy_opts)\n",
    "print('Numpy score: {}'.format(wut.score_wv(w2, vc)))\n",
    "print('Numpy wordvec norm: {:.2f}'.format(norm(w2)))\n",
    "print('=> {:.2f}s'.format(t_np))"
   ]
  },
  {
   "cell_type": "markdown",
   "metadata": {},
   "source": [
    "#### Gensim (Cython)"
   ]
  },
  {
   "cell_type": "code",
   "execution_count": 41,
   "metadata": {
    "collapsed": true
   },
   "outputs": [],
   "source": [
    "import gensim\n",
    "from gensim.models.word2vec import Word2Vec\n",
    "assert gensim.models.word2vec.FAST_VERSION == 1\n",
    "gparams = ut.to_gensim_params(cnf_)\n",
    "\n",
    "def gensim_eval(mod):\n",
    "    ans = mod.accuracy('src/questions-words.txt')\n",
    "    sect = [d for d in ans if d['section'] == 'total']\n",
    "    return sum([1 for d in sect for _ in d['correct']])"
   ]
  },
  {
   "cell_type": "markdown",
   "metadata": {},
   "source": [
    "1 epoch"
   ]
  },
  {
   "cell_type": "code",
   "execution_count": 42,
   "metadata": {
    "collapsed": false
   },
   "outputs": [
    {
     "name": "stdout",
     "output_type": "stream",
     "text": [
      "Gensim score: 109\n",
      "Gensim wordvec norm: 209.85\n",
      "=> 10.50s\n"
     ]
    }
   ],
   "source": [
    "# %time \n",
    "gen_fast, t_gen = timer(Word2Vec)(brown.sents(), seed=42, iter=1,\n",
    "                                  workers=1, **gparams)\n",
    "print('Gensim score: {}'.format(gensim_eval(gen_fast)))\n",
    "print('Gensim wordvec norm: {:.2f}'.format(norm(gen_fast.syn0)))\n",
    "print('=> {:.2f}s'.format(t_gen))"
   ]
  },
  {
   "cell_type": "markdown",
   "metadata": {},
   "source": [
    "2 epochs"
   ]
  },
  {
   "cell_type": "code",
   "execution_count": 43,
   "metadata": {
    "collapsed": false
   },
   "outputs": [
    {
     "name": "stdout",
     "output_type": "stream",
     "text": [
      "Gensim score: 181\n",
      "Gensim wordvec norm: 243.99\n",
      "=> 17.21s\n"
     ]
    }
   ],
   "source": [
    "gen_fast2, t_gen2 = timer(Word2Vec)(brown.sents(), seed=42,\n",
    "                                    iter=2, workers=1, **gparams)\n",
    "print('Gensim score: {}'.format(gensim_eval(gen_fast2)))\n",
    "print('Gensim wordvec norm: {:.2f}'.format(norm(gen_fast2.syn0)))\n",
    "print('=> {:.2f}s'.format(t_gen2))"
   ]
  },
  {
   "cell_type": "markdown",
   "metadata": {},
   "source": [
    "##### Timing Ratios\n",
    "Divide the row function by the column to see the time ratio. An entry of 5 at row `Numba` and column `Gensim` would mean that the Numba function takes 5 times as long as the Gensim one."
   ]
  },
  {
   "cell_type": "code",
   "execution_count": 44,
   "metadata": {
    "collapsed": false
   },
   "outputs": [
    {
     "data": {
      "text/plain": [
       "         Gensim  Gensim2  Numba  Numpy\n",
       "Gensim     1.00     0.61   0.20   0.03\n",
       "Gensim2    1.64     1.00   0.32   0.05\n",
       "Numba      5.10     3.11   1.00   0.15\n",
       "Numpy     35.13    21.44   6.89   1.00"
      ]
     },
     "execution_count": 44,
     "metadata": {},
     "output_type": "execute_result"
    }
   ],
   "source": [
    "ts = Series(dict(Gensim=t_gen, Gensim2=t_gen2, Numba=t_numba, Numpy=t_np))\n",
    "DataFrame(ts[:, None] / ts[:, None].T, index=ts.index,\n",
    "          columns=ts.index).apply(mc('round', 2))"
   ]
  },
  {
   "cell_type": "markdown",
   "metadata": {},
   "source": [
    "## Conclusion\n",
    "It looks like with all my numba optimizations, I'm able to get about 7x speedup over numpy, for about the same word vectors (the norms are close and the analogy accuracy score is the same). But despite the numba optimizations, my implementation is still about 5x slower than gensim's Cython version. With the possible implementation differences mentioned above, though, it looks like gensim produces word vectors more similar to mine after 2 epochs, at least in terms of word analogy accuracy. Running 2 gensim epochs gets me down to 'only' 3 times slower, but even this is by limiting gensim to a single worker. I should probably be happy with these numbers, since the gensim contributors really know what they're doing, but going through this has given me a greater appreciation of the dark cython magic they're using behind the scenes. \n",
    "\n",
    "Along with word2vec, this was also my first dive into programming with numba. It was a bit tricky navigating around some restrictions like higher-order functions, and I missed being able to avoid lower level for-loop style programming. Interpreting numba error messages was also a pain point, but I assume that's something I'll get better at the more I use it and the more it's developed. But overall I'm really happy with the speed increases it gives, as well as being able to stick to 'pretty much Python.' Numeric computing projects from the python community haven't ceased to impress me."
   ]
  }
 ],
 "metadata": {
  "kernelspec": {
   "display_name": "Python 3",
   "language": "python",
   "name": "python3"
  },
  "language_info": {
   "codemirror_mode": {
    "name": "ipython",
    "version": 3
   },
   "file_extension": ".py",
   "mimetype": "text/x-python",
   "name": "python",
   "nbconvert_exporter": "python",
   "pygments_lexer": "ipython3",
   "version": "3.5.1"
  }
 },
 "nbformat": 4,
 "nbformat_minor": 0
}
