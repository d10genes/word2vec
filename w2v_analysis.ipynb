{
 "cells": [
  {
   "cell_type": "code",
   "execution_count": null,
   "metadata": {
    "collapsed": false
   },
   "outputs": [],
   "source": [
    "%%javascript\n",
    "var csc = IPython.keyboard_manager.command_shortcuts\n",
    "csc.add_shortcut('Ctrl-k','ipython.move-selected-cell-up')\n",
    "csc.add_shortcut('Ctrl-j','ipython.move-selected-cell-down')\n",
    "csc.add_shortcut('Shift-m','ipython.merge-selected-cell-with-cell-after')"
   ]
  },
  {
   "cell_type": "code",
   "execution_count": null,
   "metadata": {
    "collapsed": false
   },
   "outputs": [],
   "source": [
    "import warnings; warnings.filterwarnings('ignore')\n",
    "from py3k_imports import *\n",
    "import project_imports3; reload(project_imports3); from project_imports3 import *\n",
    "\n",
    "%matplotlib inline\n",
    "pu.psettings(pd)\n",
    "pd.options.display.width = 200  # 150"
   ]
  },
  {
   "cell_type": "code",
   "execution_count": null,
   "metadata": {
    "collapsed": true
   },
   "outputs": [],
   "source": [
    "import utils as ut"
   ]
  },
  {
   "cell_type": "code",
   "execution_count": null,
   "metadata": {
    "collapsed": true
   },
   "outputs": [],
   "source": [
    "from collections import Counter\n",
    "import math\n",
    "import wordvec_utils; reload(wordvec_utils); from wordvec_utils import *"
   ]
  },
  {
   "cell_type": "markdown",
   "metadata": {},
   "source": [
    "with open('cache/dv_les', 'r') as f:\n",
    "    txt = f.read().splitlines()"
   ]
  },
  {
   "cell_type": "markdown",
   "metadata": {},
   "source": [
    "tx = np.array([t.strip(\"'\") for t in map(str.lower, re.split(r'[^A-Za-z\\']', txt)) if t])\n",
    "txsub = get_subsample(tx)"
   ]
  },
  {
   "cell_type": "markdown",
   "metadata": {},
   "source": [
    "freqdf = inspect_freq_thresh(tx)"
   ]
  },
  {
   "cell_type": "markdown",
   "metadata": {},
   "source": [
    "p = get_subsample_prob(tx, .001)\n",
    "plt.hist(p, bins=100); None"
   ]
  },
  {
   "cell_type": "markdown",
   "metadata": {},
   "source": [
    "## Read cached vectors"
   ]
  },
  {
   "cell_type": "code",
   "execution_count": null,
   "metadata": {
    "collapsed": false
   },
   "outputs": [],
   "source": [
    "def read_vecs(ws=[], dct=False, prefdir='cache/v2', n=25):\n",
    "    fn_pat = join(prefdir, r'n%s_e{}.csv' % n)\n",
    "    fn_re = re.compile(fn_pat.format(r'(\\d+)'))\n",
    "\n",
    "    # accums = sorted(map(z.comp(int, itg(0), fn_re.findall), glob.glob(fn_pat.format('*'))), reverse=1)\n",
    "    accums = {z.comp(int, itg(0), fn_re.findall)(fn): fn for fn in glob.glob(fn_pat.format('*'))}\n",
    "    if dct:\n",
    "        return {sec: pd.read_csv(fn, index_col=0, dialect=print(fn)).rename(columns=int)\n",
    "                for sec, fn in accums.items()}\n",
    "    Ws = [pd.read_csv(fn, index_col=0, dialect=print(fn)).rename(columns=int) for i, (_, fn)\n",
    "          in enumerate(sorted(accums.items())) if i >= len(ws)]\n",
    "    return ws + Ws"
   ]
  },
  {
   "cell_type": "code",
   "execution_count": null,
   "metadata": {
    "collapsed": true
   },
   "outputs": [],
   "source": [
    "Ws = []"
   ]
  },
  {
   "cell_type": "code",
   "execution_count": null,
   "metadata": {
    "collapsed": false
   },
   "outputs": [],
   "source": [
    "class WVecArith(object):\n",
    "    def __init__(self, W=None):\n",
    "        self.W = W\n",
    "        self.ixs = list(W.index)\n",
    "        \n",
    "    def __getattr__(self, attr):\n",
    "        return self.W.ix[attr]\n",
    "    \n",
    "    def __dir__(self):\n",
    "        return self.ixs\n",
    "\n",
    "\n",
    "with open('txt.txt','r') as f:\n",
    "    txt = f.read().splitlines()\n",
    "\n",
    "freq = Counter(txt)\n",
    "\n",
    "def keep_freqs(W, freq=freq, min_count=5):\n",
    "    new_ix = [x for x in W.index if freq[x] >= min_count]\n",
    "    return W.ix[new_ix].copy()"
   ]
  },
  {
   "cell_type": "code",
   "execution_count": null,
   "metadata": {
    "collapsed": false
   },
   "outputs": [],
   "source": [
    "Ws = read_vecs(ws=Ws, prefdir='cache/v11/', n=100)\n",
    "W = Ws[-1]\n",
    "print(len(Ws))\n",
    "phs = lambda: None\n",
    "phs.__dict__.update(dict(zip(W.index, W.index)))\n",
    "w = WVecArith(W=W)\n",
    "Wf = keep_freqs(W, freq=freq, min_count=5)"
   ]
  },
  {
   "cell_type": "code",
   "execution_count": null,
   "metadata": {
    "collapsed": false
   },
   "outputs": [],
   "source": []
  },
  {
   "cell_type": "code",
   "execution_count": null,
   "metadata": {
    "collapsed": false
   },
   "outputs": [],
   "source": [
    "W[:2]"
   ]
  },
  {
   "cell_type": "markdown",
   "metadata": {},
   "source": [
    "## Eval"
   ]
  },
  {
   "cell_type": "code",
   "execution_count": null,
   "metadata": {
    "collapsed": true
   },
   "outputs": [],
   "source": [
    "W[60:62]"
   ]
  },
  {
   "cell_type": "code",
   "execution_count": null,
   "metadata": {
    "collapsed": false
   },
   "outputs": [],
   "source": [
    "def get_closest(wd='death', n=20, W=None):\n",
    "    if isinstance(wd, str):\n",
    "        wvec = W.ix[wd]\n",
    "    else:\n",
    "        wvec = wd\n",
    "    dst = cdist(wvec, W)\n",
    "    global closests\n",
    "    closests = dst.sort_values(ascending=True)[:n]\n",
    "    #print(closests)\n",
    "    cvecs = W.ix[closests.index]\n",
    "    df = DataFrame(OrderedDict([#('Freq', freq.ix[dv.wds(closests)]),\n",
    "                                ('Dist', dst.ix[closests.index]),\n",
    "                                ('Size', np.diag(cvecs @ cvecs.T)),\n",
    "                                ('Freq', closests.index.map(freq.get)),\n",
    "            ]))\n",
    "    df.Dist = df.Dist.map('{:.2f}'.format)\n",
    "    df.Size = df.Size.map('{:.1f}'.format)\n",
    "    # df.Freq = df.Freq.round()\n",
    "    \n",
    "    # get_closest(W=w)\n",
    "    return df.reset_index(drop=0).rename(columns={'index': 'Word'})\n",
    "\n",
    "def get_closests(wds, n=20, W=None, fna=''):\n",
    "    df = pu.side_by_side([get_closest(wd=w, n=n + 1, W=W) for w in wds], names=wds) #.fillna(fna)\n",
    "    # Make sure closest word is self, then drop it\n",
    "    for c, _ in df:\n",
    "        assert df[(c, 'Word')][0] == c, 'Closest word must be self'\n",
    "        assert float(df[(c, 'Dist')][0]) == 0, 'Closest word must be self, distance=0'\n",
    "    return df[1:].reset_index(drop=1)\n",
    "\n",
    "Series.__matmul__ = Series.dot\n",
    "DataFrame.__matmul__ = DataFrame.dot"
   ]
  },
  {
   "cell_type": "code",
   "execution_count": null,
   "metadata": {
    "collapsed": true
   },
   "outputs": [],
   "source": [
    "Series(list(freq.values())).value_counts(normalize=1).sort_values(ascending=True).cumsum()"
   ]
  },
  {
   "cell_type": "code",
   "execution_count": null,
   "metadata": {
    "collapsed": false
   },
   "outputs": [],
   "source": [
    "get_closest(W.ix['Ron_Weasley'] - W.ix['Ron'] + W.ix['Arthur'], n=20, W=Wf)"
   ]
  },
  {
   "cell_type": "code",
   "execution_count": null,
   "metadata": {
    "collapsed": false
   },
   "outputs": [],
   "source": [
    "harry_friends = ['Hermione_Granger', 'Ron_Weasley', 'Harry_Potter', ]\n",
    "harry_friends = ['Hermione', 'Ron', 'Harry', ]\n",
    "harry_friends = [phs.Hermione_Granger, phs.Ron_Weasley, phs.Harry_Potter, ]\n",
    "W.ix[harry_friends]"
   ]
  },
  {
   "cell_type": "code",
   "execution_count": null,
   "metadata": {
    "collapsed": true
   },
   "outputs": [],
   "source": [
    "get_closest(w.Killing_Curse - w.Bellatrix_Lestrange + w.Harry, n=50, W=W)\n"
   ]
  },
  {
   "cell_type": "code",
   "execution_count": null,
   "metadata": {
    "collapsed": true
   },
   "outputs": [],
   "source": [
    "get_closest(w.Avada_Kedavra - w.Voldemort + w.Ron, n=50, W=W)"
   ]
  },
  {
   "cell_type": "code",
   "execution_count": null,
   "metadata": {
    "collapsed": true
   },
   "outputs": [],
   "source": [
    "EXPELLIARMUS\n",
    "Avada\n",
    "Tergeo"
   ]
  },
  {
   "cell_type": "code",
   "execution_count": null,
   "metadata": {
    "collapsed": false
   },
   "outputs": [],
   "source": [
    "get_closest((w.Wingardium), n=50, W=W)"
   ]
  },
  {
   "cell_type": "code",
   "execution_count": null,
   "metadata": {
    "collapsed": true
   },
   "outputs": [],
   "source": []
  },
  {
   "cell_type": "code",
   "execution_count": null,
   "metadata": {
    "collapsed": true
   },
   "outputs": [],
   "source": [
    "w.Expelliarmus + w.Petrificus_Totalus + w.Stu"
   ]
  },
  {
   "cell_type": "code",
   "execution_count": null,
   "metadata": {
    "collapsed": true
   },
   "outputs": [],
   "source": [
    "get_closest(w.Expelliarmus - w.EXPELLIARMUS + w.Expecto, n=50, W=Wf)"
   ]
  },
  {
   "cell_type": "code",
   "execution_count": null,
   "metadata": {
    "collapsed": true
   },
   "outputs": [],
   "source": [
    "get_closest(w.STUPEFY, n=50, W=Wf)"
   ]
  },
  {
   "cell_type": "code",
   "execution_count": null,
   "metadata": {
    "collapsed": true
   },
   "outputs": [],
   "source": [
    "# get_closest(w.Avada_Kedavra - w.Voldemort + w.Harry, n=50, W=W)  # => Expelliarmus\n",
    "# get_closest(-(w.Stupefy) + w.Expelliarmus + w.Harry, n=50, W=W)  # => Avada_Kedavra\n",
    "get_closest(-(w.Disarmed) + w.Expelliarmus + w.Harry, n=50, W=Wf)  # => Expelliarmus\n",
    "get_closest(w.Stupefy, n=50, W=Wf)"
   ]
  },
  {
   "cell_type": "code",
   "execution_count": null,
   "metadata": {
    "collapsed": true
   },
   "outputs": [],
   "source": [
    "get_closest(w.Tonks - w.Nymphadora + w.Remus, n=50, W=W)\n",
    "get_closest(w.Umbridge - w.investigate + w.Dumbledore, n=90, W=W)\n",
    "get_closest(w.Dumbledore - w.kindly + w.Umbridge, n=90, W=W)  # => hastily, dangerously"
   ]
  },
  {
   "cell_type": "code",
   "execution_count": null,
   "metadata": {
    "collapsed": true
   },
   "outputs": [],
   "source": [
    "get_closest(w.Bill - w.Fleur_Delacour + w.Nymphadora, n=50, W=W)"
   ]
  },
  {
   "cell_type": "code",
   "execution_count": null,
   "metadata": {
    "collapsed": true
   },
   "outputs": [],
   "source": [
    "Wingardi"
   ]
  },
  {
   "cell_type": "code",
   "execution_count": null,
   "metadata": {
    "collapsed": true
   },
   "outputs": [],
   "source": [
    "get_closest(w.Kingsley - w.Aurors + w.Death_Eaters, n=50, W=W)"
   ]
  },
  {
   "cell_type": "code",
   "execution_count": null,
   "metadata": {
    "collapsed": false
   },
   "outputs": [],
   "source": [
    "# get_closest(W.ix['Hermione_Granger'] - W.ix['Hermione'] + W.ix['Hermione'], n=20, W=W)\n",
    "get_closest(w.Hermione_Granger - w.Hermione + w.Hermione, n=20, W=W)"
   ]
  },
  {
   "cell_type": "code",
   "execution_count": null,
   "metadata": {
    "collapsed": false
   },
   "outputs": [],
   "source": [
    "get_closest(W.ix[phs.Crabbe] - W.ix[phs.Malfoy] + W.ix[phs.Harry], n=20, W=W)\n",
    "get_closest(W.ix[phs.Lucius] - W.ix[phs.Malfoy] + W.ix[phs.Ron], n=20, W=W)\n",
    "# get_closest(W.ix['You-Know-Who'], n=90, W=W)"
   ]
  },
  {
   "cell_type": "code",
   "execution_count": null,
   "metadata": {
    "collapsed": false
   },
   "outputs": [],
   "source": []
  },
  {
   "cell_type": "code",
   "execution_count": null,
   "metadata": {
    "collapsed": true
   },
   "outputs": [],
   "source": []
  },
  {
   "cell_type": "code",
   "execution_count": null,
   "metadata": {
    "collapsed": false
   },
   "outputs": [],
   "source": []
  },
  {
   "cell_type": "code",
   "execution_count": null,
   "metadata": {
    "collapsed": false
   },
   "outputs": [],
   "source": [
    "get_closests(harry_friends, n=40, W=W)"
   ]
  },
  {
   "cell_type": "code",
   "execution_count": null,
   "metadata": {
    "collapsed": true
   },
   "outputs": [],
   "source": [
    "swap level, get word"
   ]
  },
  {
   "cell_type": "code",
   "execution_count": null,
   "metadata": {
    "collapsed": true
   },
   "outputs": [],
   "source": [
    "Dolores Jane Umbridge"
   ]
  },
  {
   "cell_type": "code",
   "execution_count": null,
   "metadata": {
    "collapsed": true
   },
   "outputs": [],
   "source": [
    "Professor Umbridge"
   ]
  },
  {
   "cell_type": "code",
   "execution_count": null,
   "metadata": {
    "collapsed": true
   },
   "outputs": [],
   "source": [
    "for i, tk in enumerate(txt):\n",
    "#     if tk == 'salmon-pink':\n",
    "    if 'expecto' in tk.lower():\n",
    "        print(' '.join(txt[i-10:i+10]))"
   ]
  },
  {
   "cell_type": "code",
   "execution_count": null,
   "metadata": {
    "collapsed": true
   },
   "outputs": [],
   "source": [
    "get_closests(wds, W=Ws[-1])"
   ]
  },
  {
   "cell_type": "markdown",
   "metadata": {},
   "source": [
    "## Phrases"
   ]
  },
  {
   "cell_type": "code",
   "execution_count": null,
   "metadata": {
    "collapsed": false
   },
   "outputs": [],
   "source": [
    "phrases = [x for x in Ws[0].index if '_' in x and \"'\" not in x]\n",
    "phrases_pos = [x for x in Ws[0].index if '_' in x and \"'\" in x]  # possessive"
   ]
  },
  {
   "cell_type": "code",
   "execution_count": null,
   "metadata": {
    "collapsed": true
   },
   "outputs": [],
   "source": [
    "with open('phrases.txt', 'w') as f:\n",
    "    f.write('\\n'.join(phrases))"
   ]
  },
  {
   "cell_type": "code",
   "execution_count": null,
   "metadata": {
    "collapsed": false
   },
   "outputs": [],
   "source": [
    "norms = W.T.apply(np.linalg.norm).T\n",
    "# norms = W.ix[phrases].T.apply(np.linalg.norm).T"
   ]
  },
  {
   "cell_type": "code",
   "execution_count": null,
   "metadata": {
    "collapsed": true
   },
   "outputs": [],
   "source": [
    "norms.sort_values(ascending=False)[:30]"
   ]
  },
  {
   "cell_type": "code",
   "execution_count": null,
   "metadata": {
    "collapsed": true
   },
   "outputs": [],
   "source": [
    "sns.clustermap(d1[:], annot=True, fmt=\".0f\", figsize=(20, 12));"
   ]
  },
  {
   "cell_type": "code",
   "execution_count": null,
   "metadata": {
    "collapsed": true
   },
   "outputs": [],
   "source": [
    "sns.clustermap(Ws[2].ix[fives].T, annot=True, fmt=\".0f\", figsize=(20, 7));"
   ]
  },
  {
   "cell_type": "code",
   "execution_count": null,
   "metadata": {
    "collapsed": false
   },
   "outputs": [],
   "source": [
    "sns.clustermap(Ws[-1].ix[all_nums_wds].T, annot=True, fmt=\".0f\", figsize=(25, 10));"
   ]
  },
  {
   "cell_type": "markdown",
   "metadata": {},
   "source": [
    "## Prob words"
   ]
  },
  {
   "cell_type": "code",
   "execution_count": null,
   "metadata": {
    "collapsed": true
   },
   "outputs": [],
   "source": [
    "from spacy.en import English\n",
    "nlp = English()"
   ]
  },
  {
   "cell_type": "code",
   "execution_count": null,
   "metadata": {
    "collapsed": true
   },
   "outputs": [],
   "source": [
    "parsed = nlp((' '.join(set(txt))))\n",
    "probs = {w.orth_: w.prob for w in parsed}\n",
    "!say done"
   ]
  },
  {
   "cell_type": "code",
   "execution_count": null,
   "metadata": {
    "collapsed": true
   },
   "outputs": [],
   "source": [
    "prbdf = Series(probs).reset_index(drop=0).rename(columns={'index': 'Word', 0: 'Prob'})\n",
    "prbdf['Freq'] = prbdf.Word.map(tct)\n",
    "prbdf = prbdf.sort_values(['Prob', 'Freq'], ascending=[1, 0])\n",
    "prbdf = prbdf[prbdf.Word.str[0].str.isupper() & ~prbdf.Word.str[-1].str.isupper()].query('Freq > 30').reset_index(drop=1)"
   ]
  },
  {
   "cell_type": "code",
   "execution_count": null,
   "metadata": {
    "collapsed": true
   },
   "outputs": [],
   "source": []
  },
  {
   "cell_type": "code",
   "execution_count": null,
   "metadata": {
    "collapsed": true
   },
   "outputs": [],
   "source": [
    "n = 80\n",
    "prbdf[n:n+80]"
   ]
  },
  {
   "cell_type": "markdown",
   "metadata": {},
   "source": [
    "# Linear"
   ]
  },
  {
   "cell_type": "code",
   "execution_count": null,
   "metadata": {
    "collapsed": false
   },
   "outputs": [],
   "source": [
    "from sklearn.linear_model import LinearRegression, Lasso, ElasticNet\n",
    "from sklearn.ensemble import RandomForestRegressor\n",
    "from sklearn.preprocessing import PolynomialFeatures\n",
    "\n",
    "df = pd.read_csv('log.csv', sep='\\t', index_col=0).reset_index(drop=1).rename(columns=str.capitalize)\n",
    "df.loc[df.Sample == 0, 'Sample'] = .17\n",
    "df['Size_10'] = df.Size // 10 * 10\n",
    "# df = df.query('Sample > 0.00001')\n",
    "xcols = list(df.columns[1:])\n",
    "\n",
    "rf = RandomForestRegressor()\n",
    "lsr = LinearRegression(normalize=1)\n",
    "lr = Lasso(normalize=1)\n",
    "el = ElasticNet(normalize=1)\n",
    "poly = PolynomialFeatures(degree=2, interaction_only=0)\n",
    "\n",
    "X = df[xcols].values\n",
    "X2 = poly.fit_transform(X)\n",
    "y = df.Score.values\n",
    "y0 = y == 0\n",
    "del y0\n",
    "# yg = y == 0"
   ]
  },
  {
   "cell_type": "code",
   "execution_count": null,
   "metadata": {
    "collapsed": true
   },
   "outputs": [],
   "source": []
  },
  {
   "cell_type": "code",
   "execution_count": null,
   "metadata": {
    "collapsed": false
   },
   "outputs": [],
   "source": [
    "df.Sample.value_counts(normalize=0)"
   ]
  },
  {
   "cell_type": "code",
   "execution_count": null,
   "metadata": {
    "collapsed": false
   },
   "outputs": [],
   "source": [
    "df.groupby('Sample').Score.agg(['mean', 'median'])"
   ]
  },
  {
   "cell_type": "code",
   "execution_count": null,
   "metadata": {
    "collapsed": true
   },
   "outputs": [],
   "source": [
    "plt.figure(figsize=(16, 10))\n",
    "sns.violinplot(x=\"Sample\", y=\"Score\", data=df.query('Sample != [0.00001, 0.00010]'))"
   ]
  },
  {
   "cell_type": "code",
   "execution_count": null,
   "metadata": {
    "collapsed": false
   },
   "outputs": [],
   "source": [
    "dfa = df.query('Sample != [0.00001, 0.00010] & Size_10 > 50')\n",
    "dfa.groupby(['Sample', 'Size_10', 'Window', 'Negative']).Score.agg(['mean', 'median', 'size']).round(2).to_csv('/tmp/st.csv')"
   ]
  },
  {
   "cell_type": "code",
   "execution_count": null,
   "metadata": {
    "collapsed": true
   },
   "outputs": [],
   "source": [
    "!open '/tmp/st.csv'"
   ]
  },
  {
   "cell_type": "code",
   "execution_count": null,
   "metadata": {
    "collapsed": true
   },
   "outputs": [],
   "source": []
  },
  {
   "cell_type": "code",
   "execution_count": null,
   "metadata": {
    "collapsed": true
   },
   "outputs": [],
   "source": [
    "df.pivot()"
   ]
  },
  {
   "cell_type": "code",
   "execution_count": null,
   "metadata": {
    "collapsed": true
   },
   "outputs": [],
   "source": []
  },
  {
   "cell_type": "code",
   "execution_count": null,
   "metadata": {
    "collapsed": true
   },
   "outputs": [],
   "source": [
    "import statsmodels"
   ]
  },
  {
   "cell_type": "code",
   "execution_count": null,
   "metadata": {
    "collapsed": false
   },
   "outputs": [],
   "source": [
    "reload(sns)"
   ]
  },
  {
   "cell_type": "code",
   "execution_count": null,
   "metadata": {
    "collapsed": true
   },
   "outputs": [],
   "source": [
    "plt.figure(figsize=(16, 10))\n",
    "sns.interactplot('Size', 'Window', 'Score', data=df)\n",
    "# sns.interactplot('Size', 'Sample', 'Score', data=df)"
   ]
  },
  {
   "cell_type": "code",
   "execution_count": null,
   "metadata": {
    "collapsed": true
   },
   "outputs": [],
   "source": [
    "plt.figure(figsize=(16, 10))\n",
    "d2 = df.groupby(['Size_10', 'Window']).Score.mean().unstack()\n",
    "sns.heatmap(d2, annot=True, fmt=\".0f\", linewidths=.5)"
   ]
  },
  {
   "cell_type": "code",
   "execution_count": null,
   "metadata": {
    "collapsed": true
   },
   "outputs": [],
   "source": [
    "plt.figure(figsize=(16, 10))\n",
    "d2 = df.groupby(['Window', 'Negative']).Score.mean().unstack()\n",
    "sns.heatmap(d2, annot=True, fmt=\".0f\", linewidths=.5)"
   ]
  },
  {
   "cell_type": "code",
   "execution_count": null,
   "metadata": {
    "collapsed": true
   },
   "outputs": [],
   "source": [
    "negsamp=7, N=100, window=4"
   ]
  },
  {
   "cell_type": "code",
   "execution_count": null,
   "metadata": {
    "collapsed": true
   },
   "outputs": [],
   "source": [
    "plt.figure(figsize=(16, 10))\n",
    "d1 = df.groupby(['Size_10', 'Sample']).Score.mean().unstack()\n",
    "sns.heatmap(d1, annot=True, fmt=\".0f\", linewidths=.5)"
   ]
  },
  {
   "cell_type": "code",
   "execution_count": null,
   "metadata": {
    "collapsed": true
   },
   "outputs": [],
   "source": [
    "plt.figure(figsize=(16, 10))\n",
    "sns.interactplot('Size', 'Window', 'Score', data=df)"
   ]
  },
  {
   "cell_type": "code",
   "execution_count": null,
   "metadata": {
    "collapsed": true
   },
   "outputs": [],
   "source": [
    "sns.interactplot?"
   ]
  },
  {
   "cell_type": "code",
   "execution_count": null,
   "metadata": {
    "collapsed": true
   },
   "outputs": [],
   "source": [
    "sns.heatmap(flights, annot=True, fmt=\"d\", linewidths=.5)"
   ]
  },
  {
   "cell_type": "code",
   "execution_count": null,
   "metadata": {
    "collapsed": true
   },
   "outputs": [],
   "source": [
    "df.query('Sample == .00').sort_values('Score', ascending=0)[:40]"
   ]
  },
  {
   "cell_type": "code",
   "execution_count": null,
   "metadata": {
    "collapsed": true
   },
   "outputs": [],
   "source": [
    "df.sort_values('Score', ascending=0)[:40]"
   ]
  },
  {
   "cell_type": "code",
   "execution_count": null,
   "metadata": {
    "collapsed": true
   },
   "outputs": [],
   "source": [
    "df.query('Score < 10').sort_values('Score', ascending=True)"
   ]
  },
  {
   "cell_type": "code",
   "execution_count": null,
   "metadata": {
    "collapsed": true
   },
   "outputs": [],
   "source": [
    "df.Score.hist(bins=50)"
   ]
  },
  {
   "cell_type": "code",
   "execution_count": null,
   "metadata": {
    "collapsed": true
   },
   "outputs": [],
   "source": [
    "def poly_labels(powers, cols=xcols):\n",
    "    pow = lambda x: '^{}'.format(x) if x > 1 else ''\n",
    "    return '_'.join(x + pow(bool) for x, bool in zip(cols, powers) if bool) or 'None'"
   ]
  },
  {
   "cell_type": "code",
   "execution_count": null,
   "metadata": {
    "collapsed": true
   },
   "outputs": [],
   "source": [
    "def mk_feat_df(X, y, cols=xcols):\n",
    "    lr.fit(X, y)\n",
    "    lsr.fit(X, y)\n",
    "    rf.fit(X, y)\n",
    "    el.fit(X, y)\n",
    "    return DataFrame([rf.feature_importances_, lsr.coef_, el.coef_, lr.coef_],\n",
    "                     columns=cols, index=['Rf', 'Lasso', 'El', 'Lr', ]).T.round(2)"
   ]
  },
  {
   "cell_type": "code",
   "execution_count": null,
   "metadata": {
    "collapsed": false
   },
   "outputs": [],
   "source": [
    "xcols"
   ]
  },
  {
   "cell_type": "markdown",
   "metadata": {},
   "source": [
    "mcols = ['Negative', 'Sample', 'Sg', 'Window']\n",
    "Xmiri = df[mcols].values\n",
    "\n",
    "mk_feat_df(Xmiri, y, cols=mcols)"
   ]
  },
  {
   "cell_type": "code",
   "execution_count": null,
   "metadata": {
    "collapsed": false
   },
   "outputs": [],
   "source": [
    "mk_feat_df(X, y)"
   ]
  },
  {
   "cell_type": "code",
   "execution_count": null,
   "metadata": {
    "collapsed": true
   },
   "outputs": [],
   "source": [
    "lr.fit(X2, y0)"
   ]
  },
  {
   "cell_type": "code",
   "execution_count": null,
   "metadata": {
    "collapsed": false
   },
   "outputs": [],
   "source": [
    "poly_cols = map(poly_labels, poly.powers_)\n",
    "mk_feat_df(X2, y, cols=poly_cols) #.applymap('{:.1f}'.format)"
   ]
  },
  {
   "cell_type": "code",
   "execution_count": null,
   "metadata": {
    "collapsed": false
   },
   "outputs": [],
   "source": [
    "thresh = 160\n",
    "his = df.query('Score > @thresh & Score > @thresh')\n",
    "los = df.query('Score <= @thresh')\n",
    "\n",
    "ax1 = sns.kdeplot(los.Sample, los.Size, cmap=\"Blues\", shade_lowest=False)\n",
    "ax2 = sns.kdeplot(his.Sample, his.Size, cmap=\"Reds\", shade_lowest=0)\n",
    "# plt.xlim(-0.05, .05, None)\n",
    "# ax1.set(xscale=\"log\")\n",
    "# ax2.set(xscale=\"log\");"
   ]
  },
  {
   "cell_type": "code",
   "execution_count": null,
   "metadata": {
    "collapsed": true
   },
   "outputs": [],
   "source": [
    "sns.pairplot(his)"
   ]
  },
  {
   "cell_type": "code",
   "execution_count": null,
   "metadata": {
    "collapsed": true
   },
   "outputs": [],
   "source": [
    "df.query('sample == 0.01')"
   ]
  },
  {
   "cell_type": "code",
   "execution_count": null,
   "metadata": {
    "collapsed": true
   },
   "outputs": [],
   "source": [
    "df.sort_values(['Sample', 'Size'][::-1], ascending=[0, 0])[:40]"
   ]
  },
  {
   "cell_type": "code",
   "execution_count": null,
   "metadata": {
    "collapsed": true
   },
   "outputs": [],
   "source": [
    "lr.coef_"
   ]
  },
  {
   "cell_type": "code",
   "execution_count": null,
   "metadata": {
    "collapsed": false
   },
   "outputs": [],
   "source": [
    "np.hstack([rf.feature_importances_, lr.coef_])"
   ]
  },
  {
   "cell_type": "code",
   "execution_count": null,
   "metadata": {
    "collapsed": false
   },
   "outputs": [],
   "source": [
    "DataFrame([rf.feature_importances_, lsr.coef_, lr.coef_], columns=df.columns[1:])"
   ]
  },
  {
   "cell_type": "code",
   "execution_count": null,
   "metadata": {
    "collapsed": false
   },
   "outputs": [],
   "source": [
    "df[:2]"
   ]
  },
  {
   "cell_type": "code",
   "execution_count": null,
   "metadata": {
    "collapsed": false
   },
   "outputs": [],
   "source": [
    "lr.coef_"
   ]
  },
  {
   "cell_type": "code",
   "execution_count": null,
   "metadata": {
    "collapsed": true
   },
   "outputs": [],
   "source": []
  },
  {
   "cell_type": "code",
   "execution_count": null,
   "metadata": {
    "collapsed": false
   },
   "outputs": [],
   "source": [
    "lr.residues_"
   ]
  },
  {
   "cell_type": "code",
   "execution_count": null,
   "metadata": {
    "collapsed": true
   },
   "outputs": [],
   "source": [
    "df"
   ]
  },
  {
   "cell_type": "markdown",
   "metadata": {},
   "source": [
    "## PCA"
   ]
  },
  {
   "cell_type": "code",
   "execution_count": null,
   "metadata": {
    "collapsed": true
   },
   "outputs": [],
   "source": [
    "from sklearn.decomposition import PCA\n",
    "from sklearn.manifold import TSNE\n",
    "pca = PCA(n_components=2)\n",
    "tsne = TSNE(n_components=2, random_state=1)"
   ]
  },
  {
   "cell_type": "code",
   "execution_count": null,
   "metadata": {
    "collapsed": true
   },
   "outputs": [],
   "source": [
    "def sub(xs, ys):\n",
    "    yss = set(ys)\n",
    "    return [x for x in xs if x not in yss]"
   ]
  },
  {
   "cell_type": "code",
   "execution_count": null,
   "metadata": {
    "collapsed": false
   },
   "outputs": [],
   "source": [
    "# %matplotlib notebook\n",
    "%matplotlib inline"
   ]
  },
  {
   "cell_type": "code",
   "execution_count": null,
   "metadata": {
    "collapsed": false
   },
   "outputs": [],
   "source": [
    "_sub = 'Grimmauld_Place Romilda_Vane Little_Hangleton Ludo_Bagman Michael_Corner Dedalus_Diggle Marcus_Flint'.split()\n",
    "_add = \"\"\"Tonks Nymphadora Remus Lupin Dolores Umbridge Dumbledore's_Army Severus\n",
    "Greyback Goyle Crabbe Aurors Auror Ginny Albus Dumbledore Snape Ron Hermione Harry Mad-Eye Bill Hogwarts\n",
    "Kingsley Crucio Expelliarmus Filch Nagini Hedwig\n",
    "\"\"\".split()  # Moody\n",
    "# phs.Dumbledore's_Army\n",
    "phrases2 = sub(phrases, _sub) + _add"
   ]
  },
  {
   "cell_type": "code",
   "execution_count": null,
   "metadata": {
    "collapsed": true
   },
   "outputs": [],
   "source": [
    "from sklearn.preprocessing import StandardScaler"
   ]
  },
  {
   "cell_type": "markdown",
   "metadata": {},
   "source": [
    "# TODO: StandardScaler"
   ]
  },
  {
   "cell_type": "code",
   "execution_count": null,
   "metadata": {
    "collapsed": false
   },
   "outputs": [],
   "source": [
    "xydf.ix[['Nagini', 'Hedwig', 'Mrs_Norris']]"
   ]
  },
  {
   "cell_type": "code",
   "execution_count": null,
   "metadata": {
    "collapsed": false,
    "scrolled": false
   },
   "outputs": [],
   "source": [
    "def plot_pca(i, wds=None, fig=None, figsize=(16, 10), lims=(-1.5, None), fontsize=12, fontnum=0):\n",
    "    msg = set(wds) - set(W.index)\n",
    "    assert not msg, msg\n",
    "    w = Ws[i].ix[wds]\n",
    "    dimredux = TSNE(n_components=2, random_state=1, perplexity=20, learning_rate=100, angle=.2, early_exaggeration=8) #pca  #tsne\n",
    "    dimredux = pca\n",
    "    P = DataFrame(dimredux.fit_transform(w), index=w.index)\n",
    "    xs, ys = zip(*P.values)\n",
    "    \n",
    "    if fig is None:\n",
    "        plt.figure(figsize=figsize)\n",
    "    plt.scatter(xs, ys, marker='.', s=25)\n",
    "    # plt.plot()\n",
    "    for s, x, y in zip(wds, xs, ys):\n",
    "        plt.text(x, y, s, horizontalalignment='left', verticalalignment='center')\n",
    "#     plt.ylim(lims)\n",
    "    return DataFrame(zip(*[xs, ys]), index=wds)"
   ]
  },
  {
   "cell_type": "code",
   "execution_count": null,
   "metadata": {
    "collapsed": false,
    "scrolled": false
   },
   "outputs": [],
   "source": [
    "xydf = plot_pca(-1, wds=phrases2, figsize=(20, 15), lims=(None, None))"
   ]
  },
  {
   "cell_type": "code",
   "execution_count": null,
   "metadata": {
    "collapsed": false
   },
   "outputs": [],
   "source": [
    "len(zip(*P.values))"
   ]
  },
  {
   "cell_type": "code",
   "execution_count": null,
   "metadata": {
    "collapsed": false
   },
   "outputs": [],
   "source": [
    "len(phrases)"
   ]
  },
  {
   "cell_type": "code",
   "execution_count": null,
   "metadata": {
    "collapsed": false
   },
   "outputs": [],
   "source": [
    "nr.seed(1)\n",
    "ph = nr.choice(phrases, size=100, replace=False)"
   ]
  },
  {
   "cell_type": "code",
   "execution_count": null,
   "metadata": {
    "collapsed": false
   },
   "outputs": [],
   "source": [
    "def plot_pca3d(i, wds=None, fig=None, figsize=(16, 10), lims=(-1.5, None), fontsize=12, fontnum=0):\n",
    "    if wds is None:\n",
    "        wds = fives\n",
    "    w = Ws[i].ix[wds]\n",
    "    dimredux = TSNE(n_components=3, random_state=89) #pca  #tsne\n",
    "    dimredux = PCA(n_components=3)\n",
    "    P = DataFrame(dimredux.fit_transform(w), index=w.index)\n",
    "    xs, ys, zs = zip(*P.values)\n",
    "    \n",
    "    \n",
    "    fig = plt.figure(figsize=figsize)\n",
    "    ax = fig.gca(projection='3d')\n",
    "    ax.scatter(xs, ys, zs, marker='.', s=20)\n",
    "    # plt.plot()\n",
    "    for s, x, y, z in zip(wds, xs, ys, zs):\n",
    "        1\n",
    "        ax.text(x, y, z, s, horizontalalignment='left', verticalalignment='center')\n",
    "#     plt.ylim(lims)\n",
    "    return DataFrame(zip(*[xs, ys]))\n",
    "\n",
    "xydf = plot_pca3d(-1, wds=ph, figsize=(20, 15), lims=(None, None))"
   ]
  },
  {
   "cell_type": "code",
   "execution_count": null,
   "metadata": {
    "collapsed": true
   },
   "outputs": [],
   "source": [
    "from mpl_toolkits.mplot3d import Axes3D\n",
    "\n",
    "fig = plt.figure()\n",
    "# ax = fig.add_subplot(111, projection='3d')\n",
    "# fig = plt.figure()\n",
    "ax = fig.gca(projection='3d')\n",
    " \n",
    "ax.scatter(xs, ys, zs, c=c, marker=m);"
   ]
  },
  {
   "cell_type": "code",
   "execution_count": null,
   "metadata": {
    "collapsed": false
   },
   "outputs": [],
   "source": [
    "import numpy as np\n",
    "from mpl_toolkits.mplot3d import Axes3D\n",
    "import matplotlib.pyplot as plt\n",
    "\n",
    "\n",
    "def randrange(n, vmin, vmax):\n",
    "    return (vmax - vmin)*np.random.rand(n) + vmin\n",
    "\n",
    "fig = plt.figure()\n",
    "ax = fig.add_subplot(111, projection='3d')\n",
    "n = 100\n",
    "for c, m, zl, zh in [('r', 'o', -50, -25), ('b', '^', -30, -5)]:\n",
    "    xs = randrange(n, 23, 32)\n",
    "    ys = randrange(n, 0, 100)\n",
    "    zs = randrange(n, zl, zh)\n",
    "    ax.scatter(xs, ys, zs, c=c, marker=m)\n",
    "\n",
    "ax.set_xlabel('X Label')\n",
    "ax.set_ylabel('Y Label')\n",
    "ax.set_zlabel('Z Label')\n",
    "\n",
    "plt.show()"
   ]
  },
  {
   "cell_type": "code",
   "execution_count": null,
   "metadata": {
    "collapsed": false
   },
   "outputs": [],
   "source": [
    "w = Ws[-1]"
   ]
  },
  {
   "cell_type": "code",
   "execution_count": null,
   "metadata": {
    "collapsed": false
   },
   "outputs": [],
   "source": [
    "lims=(None, 1.5)\n",
    "lims=(None, None)\n",
    "xydf = plot_pca(-1, wds=all_nums_wds, figsize=(16, 15), lims=lims, fontsize=12, fontnum=4)"
   ]
  },
  {
   "cell_type": "markdown",
   "metadata": {},
   "source": [
    "Wd = read_vecs(dct=1)\n",
    "Wds = sorted(Wd)\n",
    "plt.plot(*zip(*[(wbk, np.linalg.norm(Wd[wbk] - Wd[wak])) for wak, wbk in zip(Wds[:], Wds[1:])]))\n",
    "plt.ylim(0, None);"
   ]
  },
  {
   "cell_type": "markdown",
   "metadata": {},
   "source": [
    "Diffsμ = pd.concat([(wb - wa).mean(axis=1) for wa, wb in zip(Ws[1:], Ws[2:])], axis=1)\n",
    "Diffsmx = pd.concat([(wb - wa).abs().max(axis=1) for wa, wb in zip(Ws[1:], Ws[2:])], axis=1)"
   ]
  },
  {
   "cell_type": "code",
   "execution_count": null,
   "metadata": {
    "collapsed": false
   },
   "outputs": [],
   "source": [
    "Ws = read_vecs(ws=Ws)"
   ]
  },
  {
   "cell_type": "markdown",
   "metadata": {},
   "source": [
    "## Norms"
   ]
  },
  {
   "cell_type": "code",
   "execution_count": null,
   "metadata": {
    "collapsed": false
   },
   "outputs": [],
   "source": [
    "plt.plot([np.linalg.norm(wa) for wa in Ws[:]]);"
   ]
  },
  {
   "cell_type": "code",
   "execution_count": null,
   "metadata": {
    "collapsed": true
   },
   "outputs": [],
   "source": [
    "plt.plot([np.linalg.norm(wb - wa) for wa, wb in zip(Ws[:], Ws[1:])])\n"
   ]
  },
  {
   "cell_type": "code",
   "execution_count": null,
   "metadata": {
    "collapsed": false
   },
   "outputs": [],
   "source": [
    "plt.plot([np.linalg.norm(wb - wa) / np.linalg.norm(wa) for wa, wb in zip(Ws[:], Ws[1:])])\n",
    "# plt.ylim(0, None);"
   ]
  },
  {
   "cell_type": "code",
   "execution_count": null,
   "metadata": {
    "collapsed": false
   },
   "outputs": [],
   "source": [
    "plt.plot([np.linalg.norm(wb) - np.linalg.norm(wa) for wa, wb in zip(Ws[:], Ws[1:])])"
   ]
  },
  {
   "cell_type": "code",
   "execution_count": null,
   "metadata": {
    "collapsed": false
   },
   "outputs": [],
   "source": [
    ":\n",
    "    print()"
   ]
  },
  {
   "cell_type": "code",
   "execution_count": null,
   "metadata": {
    "collapsed": false
   },
   "outputs": [],
   "source": [
    "w = Ws[-1]\n",
    "w70 = w.ix['seventy'] - w.ix['seven'] + w.ix['eight']\n",
    "w70 = w.ix['valjean'] - w.ix['man'] + w.ix['woman']\n",
    "w70 = w.ix['cossette'] - w.ix['woman'] + w.ix['man']\n",
    "get_closest(wd=w70, n=20, W=w)"
   ]
  },
  {
   "cell_type": "code",
   "execution_count": null,
   "metadata": {
    "collapsed": false
   },
   "outputs": [],
   "source": [
    "get_closest(wd='archbishops', n=20, W=w)"
   ]
  },
  {
   "cell_type": "code",
   "execution_count": null,
   "metadata": {
    "collapsed": false
   },
   "outputs": [],
   "source": [
    "w = Ws[-1]\n",
    "w80 = w.ix['seventy'] - w.ix['seven'] + w.ix['five']\n",
    "w80 = w.ix['fifty'] - w.ix['five'] + w.ix['seven']\n",
    "get_closest(wd=w80, n=20, W=w)\n",
    "# w.ix['eighty']"
   ]
  },
  {
   "cell_type": "code",
   "execution_count": null,
   "metadata": {
    "collapsed": false
   },
   "outputs": [],
   "source": []
  },
  {
   "cell_type": "code",
   "execution_count": null,
   "metadata": {
    "collapsed": false
   },
   "outputs": [],
   "source": [
    "get_closest(wd='student', n=20, W=w)"
   ]
  },
  {
   "cell_type": "code",
   "execution_count": null,
   "metadata": {
    "collapsed": false
   },
   "outputs": [],
   "source": [
    "get"
   ]
  },
  {
   "cell_type": "code",
   "execution_count": null,
   "metadata": {
    "collapsed": true
   },
   "outputs": [],
   "source": [
    "sns.clustermap(d1.T)"
   ]
  },
  {
   "cell_type": "code",
   "execution_count": null,
   "metadata": {
    "collapsed": true
   },
   "outputs": [],
   "source": []
  },
  {
   "cell_type": "code",
   "execution_count": null,
   "metadata": {
    "collapsed": false
   },
   "outputs": [],
   "source": [
    "get_closests(wds=wds, W=Ws[1], n=30)[('five', )]"
   ]
  },
  {
   "cell_type": "markdown",
   "metadata": {},
   "source": [
    "def get_closest(wd='death', n=20, dv=dv, W=W):\n",
    "    wvec = W[dv.get(wd)]\n",
    "    # dst = dist(wvec, W)\n",
    "    dst = cdist(wvec, W)\n",
    "    #dst2 = [sp.spatial.distance.cosine(wvec, v) for v in W]\n",
    "    closests = np.argsort(dst)[:n]\n",
    "    cvecs = W[closests, :]\n",
    "    df = DataFrame(OrderedDict([('Freq', freq.ix[dv.wds(closests)]),\n",
    "                                ('Dist', dst[closests]),\n",
    "                                ('Size', np.diag(cvecs @ cvecs.T))]))\n",
    "    df.Dist = df.Dist.map('{:.2f}'.format)\n",
    "    df.Size = df.Size.map('{:.1f}'.format)\n",
    "    df.Freq = df.Freq.round()\n",
    "    \n",
    "    return df.reset_index(drop=0).rename(columns={'index': 'Word'})\n",
    "\n",
    "\n",
    "def get_closests(wds, n=20, dv=dv, W=W, fna='', names=None):\n",
    "    df = pu.side_by_side([get_closest(wd=w, n=n + 1, dv=dv, W=W) for w in wds], names=wds) #.fillna(fna)\n",
    "    # Make sure closest word is self, then drop it\n",
    "    for c, _ in df:\n",
    "        assert df[(c, 'Word')][0] == c, 'Closest word must be self'\n",
    "        assert float(df[(c, 'Dist')][0]) == 0, 'Closest word must be self, distance=0'\n",
    "    return df[1:].reset_index(drop=1)"
   ]
  },
  {
   "cell_type": "code",
   "execution_count": null,
   "metadata": {
    "collapsed": true
   },
   "outputs": [],
   "source": [
    "Ws[0]"
   ]
  },
  {
   "cell_type": "code",
   "execution_count": null,
   "metadata": {
    "collapsed": true
   },
   "outputs": [],
   "source": [
    "wd1 = pd.read_csv('cache/w')"
   ]
  },
  {
   "cell_type": "code",
   "execution_count": null,
   "metadata": {
    "collapsed": true
   },
   "outputs": [],
   "source": [
    "wd1 = pd.read_csv('/tmp/w66860_test.csv', index_col=0)"
   ]
  },
  {
   "cell_type": "code",
   "execution_count": null,
   "metadata": {
    "collapsed": true
   },
   "outputs": [],
   "source": []
  },
  {
   "cell_type": "code",
   "execution_count": null,
   "metadata": {
    "collapsed": true
   },
   "outputs": [],
   "source": [
    "Series.__matmul__ = Series.dot\n",
    "DataFrame.__matmul__ = DataFrame.dot"
   ]
  },
  {
   "cell_type": "code",
   "execution_count": null,
   "metadata": {
    "collapsed": false
   },
   "outputs": [],
   "source": [
    "cdist(wd1.ix['wooden'], wd1).order(ascending=0)[:10]"
   ]
  },
  {
   "cell_type": "code",
   "execution_count": null,
   "metadata": {
    "collapsed": false
   },
   "outputs": [],
   "source": [
    "cdist(wd1.ix['wood'], wd1).order(ascending=0)[-20:]"
   ]
  },
  {
   "cell_type": "code",
   "execution_count": null,
   "metadata": {
    "collapsed": false
   },
   "outputs": [],
   "source": [
    "cdist(wd1.ix['wooden'].values, wd1.values)"
   ]
  },
  {
   "cell_type": "code",
   "execution_count": null,
   "metadata": {
    "collapsed": false
   },
   "outputs": [],
   "source": [
    "wd1.ix['wooden']"
   ]
  },
  {
   "cell_type": "markdown",
   "metadata": {},
   "source": [
    "## Eval"
   ]
  },
  {
   "cell_type": "markdown",
   "metadata": {},
   "source": [
    "## Async"
   ]
  },
  {
   "cell_type": "code",
   "execution_count": null,
   "metadata": {
    "collapsed": false
   },
   "outputs": [],
   "source": [
    "import asyncio\n",
    "\n",
    "@asyncio.coroutine\n",
    "def slow_operation(n):\n",
    "    yield from asyncio.sleep(10 - n)\n",
    "    print(\"Slow operation {} complete\".format(n))\n",
    "\n",
    "\n",
    "@asyncio.coroutine\n",
    "def main():\n",
    "    yield from asyncio.wait([\n",
    "        slow_operation(1),\n",
    "        slow_operation(2),\n",
    "        slow_operation(3),\n",
    "    ])\n",
    "\n",
    "\n",
    "loop = asyncio.get_event_loop()\n",
    "loop.run_until_complete(main())"
   ]
  },
  {
   "cell_type": "code",
   "execution_count": null,
   "metadata": {
    "collapsed": true
   },
   "outputs": [],
   "source": [
    "w"
   ]
  },
  {
   "cell_type": "code",
   "execution_count": null,
   "metadata": {
    "collapsed": false
   },
   "outputs": [],
   "source": [
    "%%time \n",
    "import asyncio\n",
    "\n",
    "async def slow_operation(n):\n",
    "    await asyncio.sleep(5 - n)\n",
    "    print(\"Slow operation {} complete\".format(n))\n",
    "    return 2 ** n\n",
    "\n",
    "\n",
    "async def main():\n",
    "    await asyncio.wait([\n",
    "        slow_operation(1),\n",
    "        slow_operation(2),\n",
    "        slow_operation(3),\n",
    "    ])\n",
    "\n",
    "\n",
    "loop = asyncio.get_event_loop()\n",
    "loop.run_until_complete(main())"
   ]
  }
 ],
 "metadata": {
  "kernelspec": {
   "display_name": "Python 3",
   "language": "python",
   "name": "python3"
  },
  "language_info": {
   "codemirror_mode": {
    "name": "ipython",
    "version": 3
   },
   "file_extension": ".py",
   "mimetype": "text/x-python",
   "name": "python",
   "nbconvert_exporter": "python",
   "pygments_lexer": "ipython3",
   "version": "3.5.1"
  }
 },
 "nbformat": 4,
 "nbformat_minor": 0
}
